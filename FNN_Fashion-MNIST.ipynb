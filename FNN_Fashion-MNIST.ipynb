{
 "cells": [
  {
   "cell_type": "code",
   "execution_count": 1,
   "metadata": {
    "collapsed": true
   },
   "outputs": [],
   "source": [
    "import pandas as pd\n",
    "import numpy as np"
   ]
  },
  {
   "cell_type": "code",
   "execution_count": 2,
   "metadata": {
    "collapsed": true
   },
   "outputs": [],
   "source": [
    "from sklearn.model_selection import train_test_split\n",
    "from sklearn.preprocessing import StandardScaler, MinMaxScaler, LabelBinarizer, LabelEncoder\n",
    "from sklearn.metrics import accuracy_score, roc_auc_score"
   ]
  },
  {
   "cell_type": "code",
   "execution_count": 3,
   "metadata": {
    "scrolled": true
   },
   "outputs": [
    {
     "name": "stderr",
     "output_type": "stream",
     "text": [
      "Using TensorFlow backend.\n"
     ]
    }
   ],
   "source": [
    "from neural_network import FNNClassifier\n",
    "from sklearn.linear_model import SGDClassifier, LogisticRegression"
   ]
  },
  {
   "cell_type": "code",
   "execution_count": 4,
   "metadata": {
    "collapsed": true
   },
   "outputs": [],
   "source": [
    "scaler = StandardScaler()"
   ]
  },
  {
   "cell_type": "markdown",
   "metadata": {},
   "source": [
    "## Multiway Classification - Fashion MNIST"
   ]
  },
  {
   "cell_type": "code",
   "execution_count": 5,
   "metadata": {
    "collapsed": true
   },
   "outputs": [],
   "source": [
    "train_data = pd.read_csv('./data/fashion-mnist_train.csv')"
   ]
  },
  {
   "cell_type": "code",
   "execution_count": 6,
   "metadata": {
    "collapsed": true
   },
   "outputs": [],
   "source": [
    "X_train = train_data[[c for c in train_data.columns if c not in {'label'}]].values"
   ]
  },
  {
   "cell_type": "code",
   "execution_count": 7,
   "metadata": {
    "collapsed": true
   },
   "outputs": [],
   "source": [
    "y_train = train_data['label'].values"
   ]
  },
  {
   "cell_type": "code",
   "execution_count": 8,
   "metadata": {},
   "outputs": [
    {
     "name": "stderr",
     "output_type": "stream",
     "text": [
      "C:\\Users\\k\\Anaconda3\\lib\\site-packages\\sklearn\\utils\\validation.py:475: DataConversionWarning: Data with input dtype int64 was converted to float64 by StandardScaler.\n",
      "  warnings.warn(msg, DataConversionWarning)\n"
     ]
    }
   ],
   "source": [
    "X_train = scaler.fit_transform(X_train)"
   ]
  },
  {
   "cell_type": "code",
   "execution_count": 9,
   "metadata": {
    "collapsed": true
   },
   "outputs": [],
   "source": [
    "fnn = FNNClassifier(early_stopping=5)"
   ]
  },
  {
   "cell_type": "code",
   "execution_count": 10,
   "metadata": {},
   "outputs": [
    {
     "name": "stdout",
     "output_type": "stream",
     "text": [
      "Data size (60000, 784) -\t Epochs 100 -\t Batch Size 128\n",
      "10\n",
      "_________________________________________________________________\n",
      "Layer (type)                 Output Shape              Param #   \n",
      "=================================================================\n",
      "Hidden_1 (Dense)             (None, 50)                39250     \n",
      "_________________________________________________________________\n",
      "Dropout_1_0.5 (Dropout)      (None, 50)                0         \n",
      "_________________________________________________________________\n",
      "Output_softmax (Dense)       (None, 10)                510       \n",
      "=================================================================\n",
      "Total params: 39,760\n",
      "Trainable params: 39,760\n",
      "Non-trainable params: 0\n",
      "_________________________________________________________________\n",
      "Train on 54000 samples, validate on 6000 samples\n",
      "Epoch 1/100\n",
      "54000/54000 [==============================] - 5s 89us/step - loss: 0.7570 - acc: 0.7395 - val_loss: 0.4479 - val_acc: 0.8388\n",
      "Epoch 2/100\n",
      "54000/54000 [==============================] - 2s 45us/step - loss: 0.5406 - acc: 0.8084 - val_loss: 0.4158 - val_acc: 0.8492\n",
      "Epoch 3/100\n",
      "54000/54000 [==============================] - 2s 43us/step - loss: 0.4918 - acc: 0.8258 - val_loss: 0.4071 - val_acc: 0.8560\n",
      "Epoch 4/100\n",
      "54000/54000 [==============================] - 2s 43us/step - loss: 0.4713 - acc: 0.8312 - val_loss: 0.3943 - val_acc: 0.8605\n",
      "Epoch 5/100\n",
      "54000/54000 [==============================] - 2s 43us/step - loss: 0.4580 - acc: 0.8357 - val_loss: 0.3848 - val_acc: 0.8618\n",
      "Epoch 6/100\n",
      "54000/54000 [==============================] - 2s 42us/step - loss: 0.4445 - acc: 0.8407 - val_loss: 0.3760 - val_acc: 0.8667\n",
      "Epoch 7/100\n",
      "54000/54000 [==============================] - 2s 44us/step - loss: 0.4350 - acc: 0.8431 - val_loss: 0.3800 - val_acc: 0.8643\n",
      "Epoch 8/100\n",
      "54000/54000 [==============================] - 2s 43us/step - loss: 0.4283 - acc: 0.8445 - val_loss: 0.3724 - val_acc: 0.8687\n",
      "Epoch 9/100\n",
      "54000/54000 [==============================] - 2s 42us/step - loss: 0.4191 - acc: 0.8476 - val_loss: 0.3669 - val_acc: 0.8727\n",
      "Epoch 10/100\n",
      "54000/54000 [==============================] - 2s 43us/step - loss: 0.4211 - acc: 0.8481 - val_loss: 0.3664 - val_acc: 0.8723\n",
      "Epoch 11/100\n",
      "54000/54000 [==============================] - 2s 44us/step - loss: 0.4135 - acc: 0.8513 - val_loss: 0.3644 - val_acc: 0.8737\n",
      "Epoch 12/100\n",
      "54000/54000 [==============================] - 2s 45us/step - loss: 0.4109 - acc: 0.8508 - val_loss: 0.3688 - val_acc: 0.8745\n",
      "Epoch 13/100\n",
      "54000/54000 [==============================] - 2s 45us/step - loss: 0.4028 - acc: 0.8522 - val_loss: 0.3653 - val_acc: 0.8732\n",
      "Epoch 14/100\n",
      "54000/54000 [==============================] - 2s 42us/step - loss: 0.4006 - acc: 0.8524 - val_loss: 0.3626 - val_acc: 0.8750\n",
      "Epoch 15/100\n",
      "54000/54000 [==============================] - 2s 42us/step - loss: 0.3976 - acc: 0.8539 - val_loss: 0.3661 - val_acc: 0.8720\n",
      "Epoch 16/100\n",
      "54000/54000 [==============================] - 2s 43us/step - loss: 0.3984 - acc: 0.8535 - val_loss: 0.3655 - val_acc: 0.8742\n",
      "Epoch 17/100\n",
      "54000/54000 [==============================] - 2s 43us/step - loss: 0.3891 - acc: 0.8559 - val_loss: 0.3642 - val_acc: 0.8745\n",
      "Epoch 18/100\n",
      "54000/54000 [==============================] - 2s 44us/step - loss: 0.3887 - acc: 0.8565 - val_loss: 0.3668 - val_acc: 0.8725\n",
      "Fit complete in 45.29 seconds\n"
     ]
    }
   ],
   "source": [
    "fnn.fit(X_train, y_train)"
   ]
  },
  {
   "cell_type": "code",
   "execution_count": 11,
   "metadata": {
    "collapsed": true
   },
   "outputs": [],
   "source": [
    "test_data = pd.read_csv('./data/fashion-mnist_test.csv')"
   ]
  },
  {
   "cell_type": "code",
   "execution_count": 12,
   "metadata": {
    "collapsed": true
   },
   "outputs": [],
   "source": [
    "X_test = test_data[[c for c in test_data.columns if c not in {'label'}]].values"
   ]
  },
  {
   "cell_type": "code",
   "execution_count": 13,
   "metadata": {
    "collapsed": true
   },
   "outputs": [],
   "source": [
    "y_test = test_data['label'].values"
   ]
  },
  {
   "cell_type": "code",
   "execution_count": 14,
   "metadata": {},
   "outputs": [
    {
     "name": "stderr",
     "output_type": "stream",
     "text": [
      "C:\\Users\\k\\Anaconda3\\lib\\site-packages\\sklearn\\utils\\validation.py:475: DataConversionWarning: Data with input dtype int64 was converted to float64 by StandardScaler.\n",
      "  warnings.warn(msg, DataConversionWarning)\n"
     ]
    }
   ],
   "source": [
    "X_test = scaler.transform(X_test)"
   ]
  },
  {
   "cell_type": "code",
   "execution_count": 15,
   "metadata": {},
   "outputs": [
    {
     "name": "stdout",
     "output_type": "stream",
     "text": [
      "10000/10000 [==============================] - 0s 45us/step\n"
     ]
    },
    {
     "data": {
      "text/plain": [
       "{'accuracy': 0.8719, 'loss': 0.3591110485315323}"
      ]
     },
     "execution_count": 15,
     "metadata": {},
     "output_type": "execute_result"
    }
   ],
   "source": [
    "fnn.score(X_test, y_test)"
   ]
  },
  {
   "cell_type": "code",
   "execution_count": 21,
   "metadata": {
    "collapsed": true
   },
   "outputs": [],
   "source": [
    "sgd = SGDClassifier()"
   ]
  },
  {
   "cell_type": "code",
   "execution_count": 22,
   "metadata": {
    "collapsed": true
   },
   "outputs": [],
   "source": [
    "y_train = train_data['label'].values"
   ]
  },
  {
   "cell_type": "code",
   "execution_count": 23,
   "metadata": {},
   "outputs": [
    {
     "name": "stderr",
     "output_type": "stream",
     "text": [
      "C:\\Users\\k\\Anaconda3\\lib\\site-packages\\sklearn\\linear_model\\stochastic_gradient.py:128: FutureWarning: max_iter and tol parameters have been added in <class 'sklearn.linear_model.stochastic_gradient.SGDClassifier'> in 0.19. If both are left unset, they default to max_iter=5 and tol=None. If tol is not None, max_iter defaults to max_iter=1000. From 0.21, default max_iter will be 1000, and default tol will be 1e-3.\n",
      "  \"and default tol will be 1e-3.\" % type(self), FutureWarning)\n"
     ]
    },
    {
     "data": {
      "text/plain": [
       "SGDClassifier(alpha=0.0001, average=False, class_weight=None, epsilon=0.1,\n",
       "       eta0=0.0, fit_intercept=True, l1_ratio=0.15,\n",
       "       learning_rate='optimal', loss='hinge', max_iter=None, n_iter=None,\n",
       "       n_jobs=1, penalty='l2', power_t=0.5, random_state=None,\n",
       "       shuffle=True, tol=None, verbose=0, warm_start=False)"
      ]
     },
     "execution_count": 23,
     "metadata": {},
     "output_type": "execute_result"
    }
   ],
   "source": [
    "sgd.fit(X_train, y_train)"
   ]
  },
  {
   "cell_type": "code",
   "execution_count": 24,
   "metadata": {
    "collapsed": true
   },
   "outputs": [],
   "source": [
    "y_test = test_data['label'].values"
   ]
  },
  {
   "cell_type": "code",
   "execution_count": 25,
   "metadata": {},
   "outputs": [
    {
     "data": {
      "text/plain": [
       "0.8388"
      ]
     },
     "execution_count": 25,
     "metadata": {},
     "output_type": "execute_result"
    }
   ],
   "source": [
    "accuracy_score(sgd.predict(X_test), y_test)"
   ]
  }
 ],
 "metadata": {
  "kernelspec": {
   "display_name": "Python 3",
   "language": "python",
   "name": "python3"
  },
  "language_info": {
   "codemirror_mode": {
    "name": "ipython",
    "version": 3
   },
   "file_extension": ".py",
   "mimetype": "text/x-python",
   "name": "python",
   "nbconvert_exporter": "python",
   "pygments_lexer": "ipython3",
   "version": "3.6.2"
  }
 },
 "nbformat": 4,
 "nbformat_minor": 2
}
