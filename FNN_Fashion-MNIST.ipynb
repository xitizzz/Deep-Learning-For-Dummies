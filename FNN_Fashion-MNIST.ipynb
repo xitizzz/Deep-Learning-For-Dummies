{
 "cells": [
  {
   "cell_type": "code",
   "execution_count": 1,
   "metadata": {
    "collapsed": true
   },
   "outputs": [],
   "source": [
    "import pandas as pd\n",
    "import numpy as np"
   ]
  },
  {
   "cell_type": "code",
   "execution_count": 2,
   "metadata": {
    "collapsed": true
   },
   "outputs": [],
   "source": [
    "from sklearn.model_selection import train_test_split\n",
    "from sklearn.preprocessing import StandardScaler, MinMaxScaler, LabelBinarizer, LabelEncoder\n",
    "from sklearn.metrics import accuracy_score, roc_auc_score"
   ]
  },
  {
   "cell_type": "code",
   "execution_count": 3,
   "metadata": {
    "collapsed": true,
    "scrolled": true
   },
   "outputs": [],
   "source": [
    "from neural_network import FNNClassifier\n",
    "from sklearn.linear_model import SGDClassifier, LogisticRegression"
   ]
  },
  {
   "cell_type": "code",
   "execution_count": 4,
   "metadata": {
    "collapsed": true
   },
   "outputs": [],
   "source": [
    "scaler = StandardScaler()"
   ]
  },
  {
   "cell_type": "markdown",
   "metadata": {},
   "source": [
    "## Multiway Classification - Fashion MNIST"
   ]
  },
  {
   "cell_type": "code",
   "execution_count": 5,
   "metadata": {
    "collapsed": true
   },
   "outputs": [],
   "source": [
    "train_data = pd.read_csv('./data/fashion-mnist_train.csv')"
   ]
  },
  {
   "cell_type": "code",
   "execution_count": 6,
   "metadata": {
    "collapsed": true
   },
   "outputs": [],
   "source": [
    "X_train = train_data[[c for c in train_data.columns if c not in {'label'}]].values"
   ]
  },
  {
   "cell_type": "code",
   "execution_count": 7,
   "metadata": {
    "collapsed": true
   },
   "outputs": [],
   "source": [
    "y_train = train_data['label'].values"
   ]
  },
  {
   "cell_type": "code",
   "execution_count": 8,
   "metadata": {},
   "outputs": [
    {
     "name": "stderr",
     "output_type": "stream",
     "text": [
      "C:\\Users\\k\\Anaconda3\\lib\\site-packages\\sklearn\\utils\\validation.py:475: DataConversionWarning: Data with input dtype int64 was converted to float64 by StandardScaler.\n",
      "  warnings.warn(msg, DataConversionWarning)\n"
     ]
    }
   ],
   "source": [
    "X_train = scaler.fit_transform(X_train)"
   ]
  },
  {
   "cell_type": "code",
   "execution_count": 20,
   "metadata": {
    "collapsed": true,
    "scrolled": true
   },
   "outputs": [],
   "source": [
    "fnn = FNNClassifier(early_stopping=5, hidden_layers=[250], dropout=0.6)"
   ]
  },
  {
   "cell_type": "code",
   "execution_count": 21,
   "metadata": {},
   "outputs": [
    {
     "name": "stdout",
     "output_type": "stream",
     "text": [
      "Data size (60000, 784) -\t Epochs 100 -\t Batch Size 128\n",
      "10\n",
      "_________________________________________________________________\n",
      "Layer (type)                 Output Shape              Param #   \n",
      "=================================================================\n",
      "Hidden_1 (Dense)             (None, 250)               196250    \n",
      "_________________________________________________________________\n",
      "Dropout_1_0.6 (Dropout)      (None, 250)               0         \n",
      "_________________________________________________________________\n",
      "Output_softmax (Dense)       (None, 10)                2510      \n",
      "=================================================================\n",
      "Total params: 198,760\n",
      "Trainable params: 198,760\n",
      "Non-trainable params: 0\n",
      "_________________________________________________________________\n",
      "Train on 54000 samples, validate on 6000 samples\n",
      "Epoch 1/100\n",
      "54000/54000 [==============================] - 3s 59us/step - loss: 0.6384 - acc: 0.7866 - val_loss: 0.4189 - val_acc: 0.8540\n",
      "Epoch 2/100\n",
      "54000/54000 [==============================] - 2s 46us/step - loss: 0.4544 - acc: 0.8390 - val_loss: 0.3886 - val_acc: 0.8613\n",
      "Epoch 3/100\n",
      "54000/54000 [==============================] - 2s 45us/step - loss: 0.4161 - acc: 0.8519 - val_loss: 0.3666 - val_acc: 0.8663\n",
      "Epoch 4/100\n",
      "54000/54000 [==============================] - 2s 45us/step - loss: 0.3913 - acc: 0.8586 - val_loss: 0.3527 - val_acc: 0.8775\n",
      "Epoch 5/100\n",
      "54000/54000 [==============================] - 2s 45us/step - loss: 0.3767 - acc: 0.8622 - val_loss: 0.3510 - val_acc: 0.8743\n",
      "Epoch 6/100\n",
      "54000/54000 [==============================] - 2s 45us/step - loss: 0.3670 - acc: 0.8662 - val_loss: 0.3434 - val_acc: 0.8773\n",
      "Epoch 7/100\n",
      "54000/54000 [==============================] - 2s 45us/step - loss: 0.3522 - acc: 0.8725 - val_loss: 0.3400 - val_acc: 0.8795\n",
      "Epoch 8/100\n",
      "54000/54000 [==============================] - 2s 45us/step - loss: 0.3469 - acc: 0.8722 - val_loss: 0.3454 - val_acc: 0.8833\n",
      "Epoch 9/100\n",
      "54000/54000 [==============================] - 2s 45us/step - loss: 0.3385 - acc: 0.8755 - val_loss: 0.3484 - val_acc: 0.8772\n",
      "Epoch 10/100\n",
      "54000/54000 [==============================] - 2s 45us/step - loss: 0.3384 - acc: 0.8772 - val_loss: 0.3503 - val_acc: 0.8737\n",
      "Epoch 11/100\n",
      "54000/54000 [==============================] - 2s 45us/step - loss: 0.3287 - acc: 0.8798 - val_loss: 0.3321 - val_acc: 0.8827\n",
      "Epoch 12/100\n",
      "54000/54000 [==============================] - 2s 45us/step - loss: 0.3228 - acc: 0.8805 - val_loss: 0.3377 - val_acc: 0.8817\n",
      "Epoch 13/100\n",
      "54000/54000 [==============================] - 2s 45us/step - loss: 0.3177 - acc: 0.8825 - val_loss: 0.3313 - val_acc: 0.8855\n",
      "Epoch 14/100\n",
      "54000/54000 [==============================] - 2s 45us/step - loss: 0.3103 - acc: 0.8865 - val_loss: 0.3265 - val_acc: 0.8875\n",
      "Epoch 15/100\n",
      "54000/54000 [==============================] - 2s 45us/step - loss: 0.3090 - acc: 0.8870 - val_loss: 0.3223 - val_acc: 0.8887\n",
      "Epoch 16/100\n",
      "54000/54000 [==============================] - 2s 45us/step - loss: 0.3082 - acc: 0.8875 - val_loss: 0.3255 - val_acc: 0.8880\n",
      "Epoch 17/100\n",
      "54000/54000 [==============================] - 2s 45us/step - loss: 0.3004 - acc: 0.8898 - val_loss: 0.3272 - val_acc: 0.8863\n",
      "Epoch 18/100\n",
      "54000/54000 [==============================] - 2s 45us/step - loss: 0.2974 - acc: 0.8909 - val_loss: 0.3200 - val_acc: 0.8893\n",
      "Epoch 19/100\n",
      "54000/54000 [==============================] - 2s 45us/step - loss: 0.2933 - acc: 0.8929 - val_loss: 0.3307 - val_acc: 0.8873\n",
      "Epoch 20/100\n",
      "54000/54000 [==============================] - 2s 45us/step - loss: 0.2832 - acc: 0.8952 - val_loss: 0.3280 - val_acc: 0.8878\n",
      "Epoch 21/100\n",
      "54000/54000 [==============================] - 2s 46us/step - loss: 0.2852 - acc: 0.8947 - val_loss: 0.3311 - val_acc: 0.8895\n",
      "Epoch 22/100\n",
      "54000/54000 [==============================] - 2s 45us/step - loss: 0.2791 - acc: 0.8966 - val_loss: 0.3287 - val_acc: 0.8902\n",
      "Fit complete in 55.08 seconds\n"
     ]
    }
   ],
   "source": [
    "fnn.fit(X_train, y_train)"
   ]
  },
  {
   "cell_type": "code",
   "execution_count": 22,
   "metadata": {
    "collapsed": true
   },
   "outputs": [],
   "source": [
    "test_data = pd.read_csv('./data/fashion-mnist_test.csv')"
   ]
  },
  {
   "cell_type": "code",
   "execution_count": 23,
   "metadata": {
    "collapsed": true
   },
   "outputs": [],
   "source": [
    "X_test = test_data[[c for c in test_data.columns if c not in {'label'}]].values"
   ]
  },
  {
   "cell_type": "code",
   "execution_count": 24,
   "metadata": {
    "collapsed": true
   },
   "outputs": [],
   "source": [
    "y_test = test_data['label'].values"
   ]
  },
  {
   "cell_type": "code",
   "execution_count": 25,
   "metadata": {},
   "outputs": [
    {
     "name": "stderr",
     "output_type": "stream",
     "text": [
      "C:\\Users\\k\\Anaconda3\\lib\\site-packages\\sklearn\\utils\\validation.py:475: DataConversionWarning: Data with input dtype int64 was converted to float64 by StandardScaler.\n",
      "  warnings.warn(msg, DataConversionWarning)\n"
     ]
    }
   ],
   "source": [
    "X_test = scaler.transform(X_test)"
   ]
  },
  {
   "cell_type": "code",
   "execution_count": 26,
   "metadata": {
    "scrolled": true
   },
   "outputs": [
    {
     "name": "stdout",
     "output_type": "stream",
     "text": [
      "10000/10000 [==============================] - 0s 41us/step\n"
     ]
    },
    {
     "data": {
      "text/plain": [
       "{'accuracy': 0.8947, 'loss': 0.3231918500781059}"
      ]
     },
     "execution_count": 26,
     "metadata": {},
     "output_type": "execute_result"
    }
   ],
   "source": [
    "fnn.score(X_test, y_test)"
   ]
  },
  {
   "cell_type": "code",
   "execution_count": 34,
   "metadata": {},
   "outputs": [],
   "source": [
    "sgd = SGDClassifier()"
   ]
  },
  {
   "cell_type": "code",
   "execution_count": 35,
   "metadata": {
    "collapsed": true
   },
   "outputs": [],
   "source": [
    "y_train = train_data['label'].values"
   ]
  },
  {
   "cell_type": "code",
   "execution_count": 36,
   "metadata": {},
   "outputs": [
    {
     "name": "stderr",
     "output_type": "stream",
     "text": [
      "C:\\Users\\k\\Anaconda3\\lib\\site-packages\\sklearn\\linear_model\\stochastic_gradient.py:128: FutureWarning: max_iter and tol parameters have been added in <class 'sklearn.linear_model.stochastic_gradient.SGDClassifier'> in 0.19. If both are left unset, they default to max_iter=5 and tol=None. If tol is not None, max_iter defaults to max_iter=1000. From 0.21, default max_iter will be 1000, and default tol will be 1e-3.\n",
      "  \"and default tol will be 1e-3.\" % type(self), FutureWarning)\n"
     ]
    },
    {
     "data": {
      "text/plain": [
       "SGDClassifier(alpha=0.0001, average=False, class_weight=None, epsilon=0.1,\n",
       "       eta0=0.0, fit_intercept=True, l1_ratio=0.15,\n",
       "       learning_rate='optimal', loss='hinge', max_iter=None, n_iter=None,\n",
       "       n_jobs=1, penalty='l2', power_t=0.5, random_state=None,\n",
       "       shuffle=True, tol=None, verbose=0, warm_start=False)"
      ]
     },
     "execution_count": 36,
     "metadata": {},
     "output_type": "execute_result"
    }
   ],
   "source": [
    "sgd.fit(X_train, y_train)"
   ]
  },
  {
   "cell_type": "code",
   "execution_count": 37,
   "metadata": {
    "collapsed": true
   },
   "outputs": [],
   "source": [
    "y_test = test_data['label'].values"
   ]
  },
  {
   "cell_type": "code",
   "execution_count": 38,
   "metadata": {},
   "outputs": [
    {
     "data": {
      "text/plain": [
       "0.8388"
      ]
     },
     "execution_count": 38,
     "metadata": {},
     "output_type": "execute_result"
    }
   ],
   "source": [
    "accuracy_score(sgd.predict(X_test), y_test)"
   ]
  }
 ],
 "metadata": {
  "kernelspec": {
   "display_name": "Python 3",
   "language": "python",
   "name": "python3"
  },
  "language_info": {
   "codemirror_mode": {
    "name": "ipython",
    "version": 3
   },
   "file_extension": ".py",
   "mimetype": "text/x-python",
   "name": "python",
   "nbconvert_exporter": "python",
   "pygments_lexer": "ipython3",
   "version": "3.6.2"
  }
 },
 "nbformat": 4,
 "nbformat_minor": 2
}
