{
 "cells": [
  {
   "cell_type": "code",
   "execution_count": 1,
   "metadata": {
    "collapsed": true
   },
   "outputs": [],
   "source": [
    "import pandas as pd\n",
    "import numpy as np"
   ]
  },
  {
   "cell_type": "code",
   "execution_count": 2,
   "metadata": {
    "collapsed": true
   },
   "outputs": [],
   "source": [
    "from sklearn.model_selection import train_test_split\n",
    "from sklearn.preprocessing import StandardScaler, MinMaxScaler, LabelBinarizer, LabelEncoder\n",
    "from sklearn.metrics import accuracy_score, roc_auc_score"
   ]
  },
  {
   "cell_type": "code",
   "execution_count": 3,
   "metadata": {
    "scrolled": true
   },
   "outputs": [
    {
     "name": "stderr",
     "output_type": "stream",
     "text": [
      "Using TensorFlow backend.\n"
     ]
    }
   ],
   "source": [
    "from neural_network import FNNClassifier\n",
    "from sklearn.linear_model import SGDClassifier, LogisticRegression"
   ]
  },
  {
   "cell_type": "markdown",
   "metadata": {},
   "source": [
    "### Classification with Cenesus data"
   ]
  },
  {
   "cell_type": "code",
   "execution_count": 4,
   "metadata": {
    "collapsed": true
   },
   "outputs": [],
   "source": [
    "df = pd.read_csv('./data/adult.csv') "
   ]
  },
  {
   "cell_type": "code",
   "execution_count": 5,
   "metadata": {
    "scrolled": true
   },
   "outputs": [
    {
     "data": {
      "text/html": [
       "<div>\n",
       "<style scoped>\n",
       "    .dataframe tbody tr th:only-of-type {\n",
       "        vertical-align: middle;\n",
       "    }\n",
       "\n",
       "    .dataframe tbody tr th {\n",
       "        vertical-align: top;\n",
       "    }\n",
       "\n",
       "    .dataframe thead th {\n",
       "        text-align: right;\n",
       "    }\n",
       "</style>\n",
       "<table border=\"1\" class=\"dataframe\">\n",
       "  <thead>\n",
       "    <tr style=\"text-align: right;\">\n",
       "      <th></th>\n",
       "      <th>age</th>\n",
       "      <th>workclass</th>\n",
       "      <th>fnlwgt</th>\n",
       "      <th>education</th>\n",
       "      <th>education.num</th>\n",
       "      <th>marital.status</th>\n",
       "      <th>occupation</th>\n",
       "      <th>relationship</th>\n",
       "      <th>race</th>\n",
       "      <th>sex</th>\n",
       "      <th>capital.gain</th>\n",
       "      <th>capital.loss</th>\n",
       "      <th>hours.per.week</th>\n",
       "      <th>native.country</th>\n",
       "      <th>income</th>\n",
       "    </tr>\n",
       "  </thead>\n",
       "  <tbody>\n",
       "    <tr>\n",
       "      <th>0</th>\n",
       "      <td>90</td>\n",
       "      <td>?</td>\n",
       "      <td>77053</td>\n",
       "      <td>HS-grad</td>\n",
       "      <td>9</td>\n",
       "      <td>Widowed</td>\n",
       "      <td>?</td>\n",
       "      <td>Not-in-family</td>\n",
       "      <td>White</td>\n",
       "      <td>Female</td>\n",
       "      <td>0</td>\n",
       "      <td>4356</td>\n",
       "      <td>40</td>\n",
       "      <td>United-States</td>\n",
       "      <td>&lt;=50K</td>\n",
       "    </tr>\n",
       "    <tr>\n",
       "      <th>1</th>\n",
       "      <td>82</td>\n",
       "      <td>Private</td>\n",
       "      <td>132870</td>\n",
       "      <td>HS-grad</td>\n",
       "      <td>9</td>\n",
       "      <td>Widowed</td>\n",
       "      <td>Exec-managerial</td>\n",
       "      <td>Not-in-family</td>\n",
       "      <td>White</td>\n",
       "      <td>Female</td>\n",
       "      <td>0</td>\n",
       "      <td>4356</td>\n",
       "      <td>18</td>\n",
       "      <td>United-States</td>\n",
       "      <td>&lt;=50K</td>\n",
       "    </tr>\n",
       "    <tr>\n",
       "      <th>2</th>\n",
       "      <td>66</td>\n",
       "      <td>?</td>\n",
       "      <td>186061</td>\n",
       "      <td>Some-college</td>\n",
       "      <td>10</td>\n",
       "      <td>Widowed</td>\n",
       "      <td>?</td>\n",
       "      <td>Unmarried</td>\n",
       "      <td>Black</td>\n",
       "      <td>Female</td>\n",
       "      <td>0</td>\n",
       "      <td>4356</td>\n",
       "      <td>40</td>\n",
       "      <td>United-States</td>\n",
       "      <td>&lt;=50K</td>\n",
       "    </tr>\n",
       "    <tr>\n",
       "      <th>3</th>\n",
       "      <td>54</td>\n",
       "      <td>Private</td>\n",
       "      <td>140359</td>\n",
       "      <td>7th-8th</td>\n",
       "      <td>4</td>\n",
       "      <td>Divorced</td>\n",
       "      <td>Machine-op-inspct</td>\n",
       "      <td>Unmarried</td>\n",
       "      <td>White</td>\n",
       "      <td>Female</td>\n",
       "      <td>0</td>\n",
       "      <td>3900</td>\n",
       "      <td>40</td>\n",
       "      <td>United-States</td>\n",
       "      <td>&lt;=50K</td>\n",
       "    </tr>\n",
       "    <tr>\n",
       "      <th>4</th>\n",
       "      <td>41</td>\n",
       "      <td>Private</td>\n",
       "      <td>264663</td>\n",
       "      <td>Some-college</td>\n",
       "      <td>10</td>\n",
       "      <td>Separated</td>\n",
       "      <td>Prof-specialty</td>\n",
       "      <td>Own-child</td>\n",
       "      <td>White</td>\n",
       "      <td>Female</td>\n",
       "      <td>0</td>\n",
       "      <td>3900</td>\n",
       "      <td>40</td>\n",
       "      <td>United-States</td>\n",
       "      <td>&lt;=50K</td>\n",
       "    </tr>\n",
       "  </tbody>\n",
       "</table>\n",
       "</div>"
      ],
      "text/plain": [
       "   age workclass  fnlwgt     education  education.num marital.status  \\\n",
       "0   90         ?   77053       HS-grad              9        Widowed   \n",
       "1   82   Private  132870       HS-grad              9        Widowed   \n",
       "2   66         ?  186061  Some-college             10        Widowed   \n",
       "3   54   Private  140359       7th-8th              4       Divorced   \n",
       "4   41   Private  264663  Some-college             10      Separated   \n",
       "\n",
       "          occupation   relationship   race     sex  capital.gain  \\\n",
       "0                  ?  Not-in-family  White  Female             0   \n",
       "1    Exec-managerial  Not-in-family  White  Female             0   \n",
       "2                  ?      Unmarried  Black  Female             0   \n",
       "3  Machine-op-inspct      Unmarried  White  Female             0   \n",
       "4     Prof-specialty      Own-child  White  Female             0   \n",
       "\n",
       "   capital.loss  hours.per.week native.country income  \n",
       "0          4356              40  United-States  <=50K  \n",
       "1          4356              18  United-States  <=50K  \n",
       "2          4356              40  United-States  <=50K  \n",
       "3          3900              40  United-States  <=50K  \n",
       "4          3900              40  United-States  <=50K  "
      ]
     },
     "execution_count": 5,
     "metadata": {},
     "output_type": "execute_result"
    }
   ],
   "source": [
    "df.head()"
   ]
  },
  {
   "cell_type": "code",
   "execution_count": 6,
   "metadata": {},
   "outputs": [
    {
     "data": {
      "text/plain": [
       "<=50K    24720\n",
       ">50K      7841\n",
       "Name: income, dtype: int64"
      ]
     },
     "execution_count": 6,
     "metadata": {},
     "output_type": "execute_result"
    }
   ],
   "source": [
    "df['income'].value_counts()"
   ]
  },
  {
   "cell_type": "code",
   "execution_count": 7,
   "metadata": {
    "collapsed": true
   },
   "outputs": [],
   "source": [
    "df = pd.get_dummies(df)"
   ]
  },
  {
   "cell_type": "code",
   "execution_count": 8,
   "metadata": {
    "collapsed": true
   },
   "outputs": [],
   "source": [
    "X = df[[c for c in df.columns if c not in ['income_<=50K', 'income_>50K']]].values"
   ]
  },
  {
   "cell_type": "code",
   "execution_count": 9,
   "metadata": {
    "collapsed": true
   },
   "outputs": [],
   "source": [
    "y = df['income_>50K'].values"
   ]
  },
  {
   "cell_type": "code",
   "execution_count": 10,
   "metadata": {
    "collapsed": true
   },
   "outputs": [],
   "source": [
    "scaler = StandardScaler()"
   ]
  },
  {
   "cell_type": "code",
   "execution_count": 11,
   "metadata": {
    "collapsed": true
   },
   "outputs": [],
   "source": [
    "X_train, X_test, y_train, y_test = train_test_split(X, y, test_size=0.1, random_state=22)"
   ]
  },
  {
   "cell_type": "code",
   "execution_count": 12,
   "metadata": {},
   "outputs": [
    {
     "data": {
      "text/plain": [
       "array([[    26,  94392,      7, ...,      1,      0,      0],\n",
       "       [    41, 279297,      9, ...,      1,      0,      0],\n",
       "       [    35, 155961,      9, ...,      0,      0,      0],\n",
       "       ...,\n",
       "       [    38, 192939,      9, ...,      1,      0,      0],\n",
       "       [    38, 186145,     10, ...,      1,      0,      0],\n",
       "       [    36, 112074,     16, ...,      1,      0,      0]], dtype=int64)"
      ]
     },
     "execution_count": 12,
     "metadata": {},
     "output_type": "execute_result"
    }
   ],
   "source": [
    "X_train"
   ]
  },
  {
   "cell_type": "code",
   "execution_count": 13,
   "metadata": {},
   "outputs": [
    {
     "name": "stderr",
     "output_type": "stream",
     "text": [
      "C:\\Users\\k\\Anaconda3\\lib\\site-packages\\sklearn\\utils\\validation.py:475: DataConversionWarning: Data with input dtype int64 was converted to float64 by StandardScaler.\n",
      "  warnings.warn(msg, DataConversionWarning)\n"
     ]
    }
   ],
   "source": [
    "X_train = scaler.fit_transform(X_train)"
   ]
  },
  {
   "cell_type": "code",
   "execution_count": 14,
   "metadata": {},
   "outputs": [],
   "source": [
    "fnn = FNNClassifier(class_weight='balanced')"
   ]
  },
  {
   "cell_type": "code",
   "execution_count": 15,
   "metadata": {
    "scrolled": false
   },
   "outputs": [
    {
     "name": "stdout",
     "output_type": "stream",
     "text": [
      "Data size (29304, 108) -\t Epochs 100 -\t Batch Size 128\n",
      "Computed Class Weights {0: 0.6572466693580945, 1: 2.089858793324775}\n",
      "_________________________________________________________________\n",
      "Layer (type)                 Output Shape              Param #   \n",
      "=================================================================\n",
      "Hidden_1 (Dense)             (None, 50)                5450      \n",
      "_________________________________________________________________\n",
      "Dropout_1_0.5 (Dropout)      (None, 50)                0         \n",
      "_________________________________________________________________\n",
      "Output_sigmoid (Dense)       (None, 1)                 51        \n",
      "=================================================================\n",
      "Total params: 5,501\n",
      "Trainable params: 5,501\n",
      "Non-trainable params: 0\n",
      "_________________________________________________________________\n",
      "Epoch 1/100\n",
      "29304/29304 [==============================] - 3s 106us/step - loss: 0.5293 - acc: 0.7226\n",
      "Epoch 2/100\n",
      " 4480/29304 [===>..........................] - ETA: 0s - loss: 0.4286 - acc: 0.7833"
     ]
    },
    {
     "name": "stderr",
     "output_type": "stream",
     "text": [
      "C:\\Users\\k\\Anaconda3\\lib\\site-packages\\keras\\callbacks.py:535: RuntimeWarning: Early stopping conditioned on metric `val_loss` which is not available. Available metrics are: loss,acc\n",
      "  (self.monitor, ','.join(list(logs.keys()))), RuntimeWarning\n"
     ]
    },
    {
     "name": "stdout",
     "output_type": "stream",
     "text": [
      "29304/29304 [==============================] - 1s 33us/step - loss: 0.4368 - acc: 0.7762\n",
      "Epoch 3/100\n",
      "29304/29304 [==============================] - 1s 31us/step - loss: 0.4182 - acc: 0.7825\n",
      "Epoch 4/100\n",
      "29304/29304 [==============================] - 1s 32us/step - loss: 0.4054 - acc: 0.7880\n",
      "Epoch 5/100\n",
      "29304/29304 [==============================] - 1s 32us/step - loss: 0.3987 - acc: 0.7920\n",
      "Epoch 6/100\n",
      "29304/29304 [==============================] - 1s 32us/step - loss: 0.3908 - acc: 0.7965\n",
      "Epoch 7/100\n",
      "29304/29304 [==============================] - 1s 33us/step - loss: 0.3838 - acc: 0.8001\n",
      "Epoch 8/100\n",
      "29304/29304 [==============================] - 1s 32us/step - loss: 0.3844 - acc: 0.8031\n",
      "Epoch 9/100\n",
      "29304/29304 [==============================] - 1s 32us/step - loss: 0.3835 - acc: 0.7992\n",
      "Epoch 10/100\n",
      "29304/29304 [==============================] - 1s 33us/step - loss: 0.3810 - acc: 0.8029\n",
      "Epoch 11/100\n",
      "29304/29304 [==============================] - 1s 32us/step - loss: 0.3769 - acc: 0.8045\n",
      "Epoch 12/100\n",
      "29304/29304 [==============================] - 1s 31us/step - loss: 0.3760 - acc: 0.8052\n",
      "Epoch 13/100\n",
      "29304/29304 [==============================] - 1s 31us/step - loss: 0.3754 - acc: 0.8064\n",
      "Epoch 14/100\n",
      "29304/29304 [==============================] - 1s 31us/step - loss: 0.3744 - acc: 0.8091\n",
      "Epoch 15/100\n",
      "29304/29304 [==============================] - 1s 31us/step - loss: 0.3750 - acc: 0.8062\n",
      "Epoch 16/100\n",
      "29304/29304 [==============================] - 1s 31us/step - loss: 0.3717 - acc: 0.8069\n",
      "Epoch 17/100\n",
      "29304/29304 [==============================] - 1s 31us/step - loss: 0.3733 - acc: 0.8068\n",
      "Epoch 18/100\n",
      "29304/29304 [==============================] - 1s 32us/step - loss: 0.3715 - acc: 0.8079\n",
      "Epoch 19/100\n",
      "29304/29304 [==============================] - 1s 31us/step - loss: 0.3701 - acc: 0.8109\n",
      "Epoch 20/100\n",
      "29304/29304 [==============================] - 1s 32us/step - loss: 0.3687 - acc: 0.8087\n",
      "Epoch 21/100\n",
      "29304/29304 [==============================] - 1s 34us/step - loss: 0.3694 - acc: 0.8084\n",
      "Epoch 22/100\n",
      "29304/29304 [==============================] - 1s 32us/step - loss: 0.3706 - acc: 0.8072\n",
      "Epoch 23/100\n",
      "29304/29304 [==============================] - 1s 33us/step - loss: 0.3695 - acc: 0.8090\n",
      "Epoch 24/100\n",
      "29304/29304 [==============================] - 1s 31us/step - loss: 0.3659 - acc: 0.8088\n",
      "Epoch 25/100\n",
      "29304/29304 [==============================] - 1s 32us/step - loss: 0.3653 - acc: 0.8105\n",
      "Epoch 26/100\n",
      "29304/29304 [==============================] - 1s 33us/step - loss: 0.3647 - acc: 0.8105\n",
      "Epoch 27/100\n",
      "29304/29304 [==============================] - 1s 32us/step - loss: 0.3675 - acc: 0.8108\n",
      "Epoch 28/100\n",
      "29304/29304 [==============================] - 1s 32us/step - loss: 0.3662 - acc: 0.8117\n",
      "Epoch 29/100\n",
      "29304/29304 [==============================] - 1s 32us/step - loss: 0.3640 - acc: 0.8102\n",
      "Epoch 30/100\n",
      "29304/29304 [==============================] - 1s 33us/step - loss: 0.3650 - acc: 0.8075\n",
      "Epoch 31/100\n",
      "29304/29304 [==============================] - 1s 32us/step - loss: 0.3646 - acc: 0.8107\n",
      "Epoch 32/100\n",
      "29304/29304 [==============================] - 1s 33us/step - loss: 0.3621 - acc: 0.8103\n",
      "Epoch 33/100\n",
      "29304/29304 [==============================] - 1s 32us/step - loss: 0.3632 - acc: 0.8096\n",
      "Epoch 34/100\n",
      "29304/29304 [==============================] - 1s 32us/step - loss: 0.3631 - acc: 0.8101\n",
      "Epoch 35/100\n",
      "29304/29304 [==============================] - 1s 32us/step - loss: 0.3616 - acc: 0.8107\n",
      "Epoch 36/100\n",
      "29304/29304 [==============================] - 1s 33us/step - loss: 0.3629 - acc: 0.8105\n",
      "Epoch 37/100\n",
      "29304/29304 [==============================] - 1s 33us/step - loss: 0.3621 - acc: 0.8128\n",
      "Epoch 38/100\n",
      "29304/29304 [==============================] - 1s 34us/step - loss: 0.3614 - acc: 0.8105\n",
      "Epoch 39/100\n",
      "29304/29304 [==============================] - 1s 33us/step - loss: 0.3613 - acc: 0.8123\n",
      "Epoch 40/100\n",
      "29304/29304 [==============================] - 1s 34us/step - loss: 0.3611 - acc: 0.8114\n",
      "Epoch 41/100\n",
      "29304/29304 [==============================] - 1s 34us/step - loss: 0.3598 - acc: 0.8129\n",
      "Epoch 42/100\n",
      "29304/29304 [==============================] - 1s 33us/step - loss: 0.3616 - acc: 0.8115\n",
      "Epoch 43/100\n",
      "29304/29304 [==============================] - 1s 32us/step - loss: 0.3581 - acc: 0.8115\n",
      "Epoch 44/100\n",
      "29304/29304 [==============================] - 1s 33us/step - loss: 0.3604 - acc: 0.8122\n",
      "Epoch 45/100\n",
      "29304/29304 [==============================] - 1s 32us/step - loss: 0.3597 - acc: 0.8123\n",
      "Epoch 46/100\n",
      "29304/29304 [==============================] - 1s 33us/step - loss: 0.3592 - acc: 0.8121\n",
      "Epoch 47/100\n",
      "29304/29304 [==============================] - 1s 32us/step - loss: 0.3615 - acc: 0.8106\n",
      "Epoch 48/100\n",
      "29304/29304 [==============================] - 1s 32us/step - loss: 0.3582 - acc: 0.8111\n",
      "Epoch 49/100\n",
      "29304/29304 [==============================] - 1s 34us/step - loss: 0.3588 - acc: 0.8123\n",
      "Epoch 50/100\n",
      "29304/29304 [==============================] - 1s 33us/step - loss: 0.3562 - acc: 0.8107\n",
      "Epoch 51/100\n",
      "29304/29304 [==============================] - 1s 33us/step - loss: 0.3602 - acc: 0.8101\n",
      "Epoch 52/100\n",
      "29304/29304 [==============================] - 1s 33us/step - loss: 0.3575 - acc: 0.8139\n",
      "Epoch 53/100\n",
      "29304/29304 [==============================] - 1s 32us/step - loss: 0.3554 - acc: 0.8101\n",
      "Epoch 54/100\n",
      "29304/29304 [==============================] - 1s 34us/step - loss: 0.3601 - acc: 0.8121\n",
      "Epoch 55/100\n",
      "29304/29304 [==============================] - 1s 33us/step - loss: 0.3559 - acc: 0.8118\n",
      "Epoch 56/100\n",
      "29304/29304 [==============================] - 1s 32us/step - loss: 0.3571 - acc: 0.8126\n",
      "Epoch 57/100\n",
      "29304/29304 [==============================] - 1s 32us/step - loss: 0.3567 - acc: 0.8134\n",
      "Epoch 58/100\n",
      "29304/29304 [==============================] - 1s 33us/step - loss: 0.3582 - acc: 0.8098\n",
      "Epoch 59/100\n",
      "29304/29304 [==============================] - 1s 32us/step - loss: 0.3555 - acc: 0.8132\n",
      "Epoch 60/100\n",
      "29304/29304 [==============================] - 1s 33us/step - loss: 0.3561 - acc: 0.8148\n",
      "Epoch 61/100\n",
      "29304/29304 [==============================] - 1s 33us/step - loss: 0.3563 - acc: 0.8109\n",
      "Epoch 62/100\n",
      "29304/29304 [==============================] - 1s 32us/step - loss: 0.3594 - acc: 0.8131\n",
      "Epoch 63/100\n",
      "29304/29304 [==============================] - 1s 33us/step - loss: 0.3545 - acc: 0.8135\n",
      "Epoch 64/100\n",
      "29304/29304 [==============================] - 1s 33us/step - loss: 0.3548 - acc: 0.8108\n",
      "Epoch 65/100\n",
      "29304/29304 [==============================] - 1s 33us/step - loss: 0.3562 - acc: 0.8100\n",
      "Epoch 66/100\n",
      "29304/29304 [==============================] - 1s 34us/step - loss: 0.3562 - acc: 0.8122\n",
      "Epoch 67/100\n",
      "29304/29304 [==============================] - 1s 33us/step - loss: 0.3553 - acc: 0.8130\n",
      "Epoch 68/100\n",
      "29304/29304 [==============================] - 1s 33us/step - loss: 0.3546 - acc: 0.8141\n",
      "Epoch 69/100\n",
      "29304/29304 [==============================] - 1s 34us/step - loss: 0.3557 - acc: 0.8128\n",
      "Epoch 70/100\n",
      "29304/29304 [==============================] - 1s 34us/step - loss: 0.3549 - acc: 0.8138\n",
      "Epoch 71/100\n",
      "29304/29304 [==============================] - 1s 34us/step - loss: 0.3552 - acc: 0.8164\n",
      "Epoch 72/100\n",
      "29304/29304 [==============================] - 1s 34us/step - loss: 0.3563 - acc: 0.8116\n",
      "Epoch 73/100\n",
      "29304/29304 [==============================] - 1s 34us/step - loss: 0.3553 - acc: 0.8138\n",
      "Epoch 74/100\n",
      "29304/29304 [==============================] - 1s 33us/step - loss: 0.3568 - acc: 0.8121\n",
      "Epoch 75/100\n",
      "29304/29304 [==============================] - 1s 33us/step - loss: 0.3531 - acc: 0.8132\n",
      "Epoch 76/100\n",
      "29304/29304 [==============================] - 1s 33us/step - loss: 0.3548 - acc: 0.8120\n",
      "Epoch 77/100\n",
      "29304/29304 [==============================] - 1s 34us/step - loss: 0.3527 - acc: 0.8126\n",
      "Epoch 78/100\n",
      "29304/29304 [==============================] - 1s 34us/step - loss: 0.3530 - acc: 0.8143\n",
      "Epoch 79/100\n",
      "29304/29304 [==============================] - 1s 34us/step - loss: 0.3546 - acc: 0.8124\n",
      "Epoch 80/100\n",
      "29304/29304 [==============================] - 1s 34us/step - loss: 0.3527 - acc: 0.8127\n",
      "Epoch 81/100\n",
      "29304/29304 [==============================] - 1s 33us/step - loss: 0.3536 - acc: 0.8137\n",
      "Epoch 82/100\n"
     ]
    },
    {
     "name": "stdout",
     "output_type": "stream",
     "text": [
      "29304/29304 [==============================] - 1s 31us/step - loss: 0.3526 - acc: 0.8123\n",
      "Epoch 83/100\n",
      "29304/29304 [==============================] - 1s 32us/step - loss: 0.3525 - acc: 0.8160\n",
      "Epoch 84/100\n",
      "29304/29304 [==============================] - 1s 32us/step - loss: 0.3542 - acc: 0.8148\n",
      "Epoch 85/100\n",
      "29304/29304 [==============================] - 1s 31us/step - loss: 0.3546 - acc: 0.8116\n",
      "Epoch 86/100\n",
      "29304/29304 [==============================] - 1s 31us/step - loss: 0.3528 - acc: 0.8128\n",
      "Epoch 87/100\n",
      "29304/29304 [==============================] - 1s 32us/step - loss: 0.3535 - acc: 0.8130\n",
      "Epoch 88/100\n",
      "29304/29304 [==============================] - 1s 31us/step - loss: 0.3537 - acc: 0.8136\n",
      "Epoch 89/100\n",
      "29304/29304 [==============================] - 1s 32us/step - loss: 0.3517 - acc: 0.8134\n",
      "Epoch 90/100\n",
      "29304/29304 [==============================] - 1s 32us/step - loss: 0.3501 - acc: 0.8136\n",
      "Epoch 91/100\n",
      "29304/29304 [==============================] - 1s 32us/step - loss: 0.3529 - acc: 0.8133\n",
      "Epoch 92/100\n",
      "29304/29304 [==============================] - 1s 32us/step - loss: 0.3531 - acc: 0.8132\n",
      "Epoch 93/100\n",
      "29304/29304 [==============================] - 1s 32us/step - loss: 0.3505 - acc: 0.8151\n",
      "Epoch 94/100\n",
      "29304/29304 [==============================] - 1s 31us/step - loss: 0.3521 - acc: 0.8145\n",
      "Epoch 95/100\n",
      "29304/29304 [==============================] - 1s 31us/step - loss: 0.3524 - acc: 0.8124\n",
      "Epoch 96/100\n",
      "29304/29304 [==============================] - 1s 31us/step - loss: 0.3510 - acc: 0.8156\n",
      "Epoch 97/100\n",
      "29304/29304 [==============================] - 1s 32us/step - loss: 0.3515 - acc: 0.8146\n",
      "Epoch 98/100\n",
      "29304/29304 [==============================] - 1s 32us/step - loss: 0.3528 - acc: 0.8110\n",
      "Epoch 99/100\n",
      "29304/29304 [==============================] - 1s 31us/step - loss: 0.3520 - acc: 0.8131\n",
      "Epoch 100/100\n",
      "29304/29304 [==============================] - 1s 32us/step - loss: 0.3519 - acc: 0.8115\n",
      "Fit complete in 97.92 seconds\n"
     ]
    }
   ],
   "source": [
    "fnn.fit(X_train, y_train)"
   ]
  },
  {
   "cell_type": "code",
   "execution_count": 16,
   "metadata": {},
   "outputs": [
    {
     "name": "stdout",
     "output_type": "stream",
     "text": [
      "3257/3257 [==============================] - 0s 52us/step\n"
     ]
    },
    {
     "name": "stderr",
     "output_type": "stream",
     "text": [
      "C:\\Users\\k\\Anaconda3\\lib\\site-packages\\sklearn\\utils\\validation.py:475: DataConversionWarning: Data with input dtype int64 was converted to float64 by StandardScaler.\n",
      "  warnings.warn(msg, DataConversionWarning)\n"
     ]
    },
    {
     "data": {
      "text/plain": [
       "[0.37273428834103206, 0.8197727968511971]"
      ]
     },
     "execution_count": 16,
     "metadata": {},
     "output_type": "execute_result"
    }
   ],
   "source": [
    "fnn.score(scaler.transform(X_test), y_test)"
   ]
  },
  {
   "cell_type": "code",
   "execution_count": 17,
   "metadata": {
    "collapsed": true
   },
   "outputs": [],
   "source": [
    "logistic = LogisticRegression(class_weight='balanced')"
   ]
  },
  {
   "cell_type": "code",
   "execution_count": 18,
   "metadata": {},
   "outputs": [
    {
     "data": {
      "text/plain": [
       "LogisticRegression(C=1.0, class_weight='balanced', dual=False,\n",
       "          fit_intercept=True, intercept_scaling=1, max_iter=100,\n",
       "          multi_class='ovr', n_jobs=1, penalty='l2', random_state=None,\n",
       "          solver='liblinear', tol=0.0001, verbose=0, warm_start=False)"
      ]
     },
     "execution_count": 18,
     "metadata": {},
     "output_type": "execute_result"
    }
   ],
   "source": [
    "logistic.fit(X_train, y_train)"
   ]
  },
  {
   "cell_type": "code",
   "execution_count": 19,
   "metadata": {},
   "outputs": [
    {
     "name": "stderr",
     "output_type": "stream",
     "text": [
      "C:\\Users\\k\\Anaconda3\\lib\\site-packages\\sklearn\\utils\\validation.py:475: DataConversionWarning: Data with input dtype int64 was converted to float64 by StandardScaler.\n",
      "  warnings.warn(msg, DataConversionWarning)\n"
     ]
    },
    {
     "data": {
      "text/plain": [
       "0.8167024869511821"
      ]
     },
     "execution_count": 19,
     "metadata": {},
     "output_type": "execute_result"
    }
   ],
   "source": [
    "accuracy_score(y_pred=logistic.predict(scaler.transform(X_test)), y_true=y_test)"
   ]
  },
  {
   "cell_type": "code",
   "execution_count": 20,
   "metadata": {
    "collapsed": true
   },
   "outputs": [],
   "source": [
    "df = pd.read_csv('./data/creditcard.csv')"
   ]
  },
  {
   "cell_type": "code",
   "execution_count": 21,
   "metadata": {},
   "outputs": [
    {
     "data": {
      "text/plain": [
       "0    284315\n",
       "1       492\n",
       "Name: Class, dtype: int64"
      ]
     },
     "execution_count": 21,
     "metadata": {},
     "output_type": "execute_result"
    }
   ],
   "source": [
    "df['Class'].value_counts()"
   ]
  },
  {
   "cell_type": "code",
   "execution_count": 22,
   "metadata": {
    "collapsed": true
   },
   "outputs": [],
   "source": [
    "X = df[[c for c in df.columns if c not in ['Time', 'Class']]].values"
   ]
  },
  {
   "cell_type": "code",
   "execution_count": 23,
   "metadata": {
    "collapsed": true
   },
   "outputs": [],
   "source": [
    "y = df['Class'].values"
   ]
  },
  {
   "cell_type": "code",
   "execution_count": 24,
   "metadata": {
    "collapsed": true
   },
   "outputs": [],
   "source": [
    "X_train, X_test, y_train, y_test = train_test_split(X, y, test_size=0.1, random_state=22)"
   ]
  },
  {
   "cell_type": "code",
   "execution_count": 25,
   "metadata": {
    "collapsed": true
   },
   "outputs": [],
   "source": [
    "X_train = scaler.fit_transform(X_train)"
   ]
  },
  {
   "cell_type": "code",
   "execution_count": 26,
   "metadata": {
    "collapsed": true
   },
   "outputs": [],
   "source": [
    "fnn = FNNClassifier(hidden_layers=[50, 30, 5], dropout=0.5, validation_split=0.2, class_weight='balanced', epochs=100, early_stopping=1)"
   ]
  },
  {
   "cell_type": "code",
   "execution_count": 27,
   "metadata": {},
   "outputs": [
    {
     "name": "stdout",
     "output_type": "stream",
     "text": [
      "Data size (256326, 29) -\t Epochs 100 -\t Batch Size 128\n",
      "Computed Class Weights {0: 0.5008812896922326, 1: 284.1751662971175}\n",
      "_________________________________________________________________\n",
      "Layer (type)                 Output Shape              Param #   \n",
      "=================================================================\n",
      "Hidden_1 (Dense)             (None, 50)                1500      \n",
      "_________________________________________________________________\n",
      "Dropout_1_0.5 (Dropout)      (None, 50)                0         \n",
      "_________________________________________________________________\n",
      "Hidden_2 (Dense)             (None, 30)                1530      \n",
      "_________________________________________________________________\n",
      "Dropout_2_0.5 (Dropout)      (None, 30)                0         \n",
      "_________________________________________________________________\n",
      "Hidden_3 (Dense)             (None, 5)                 155       \n",
      "_________________________________________________________________\n",
      "Dropout_3_0.5 (Dropout)      (None, 5)                 0         \n",
      "_________________________________________________________________\n",
      "Output_sigmoid (Dense)       (None, 1)                 6         \n",
      "=================================================================\n",
      "Total params: 3,191\n",
      "Trainable params: 3,191\n",
      "Non-trainable params: 0\n",
      "_________________________________________________________________\n",
      "Train on 205060 samples, validate on 51266 samples\n",
      "Epoch 1/100\n",
      "205060/205060 [==============================] - 9s 46us/step - loss: 0.9637 - acc: 0.7853 - val_loss: 0.2141 - val_acc: 0.9804\n",
      "Epoch 2/100\n",
      "205060/205060 [==============================] - 9s 43us/step - loss: 0.4672 - acc: 0.7440 - val_loss: 0.1733 - val_acc: 0.9763\n",
      "Epoch 3/100\n",
      "205060/205060 [==============================] - 9s 43us/step - loss: 0.3866 - acc: 0.8034 - val_loss: 0.1461 - val_acc: 0.9858\n",
      "Epoch 4/100\n",
      "205060/205060 [==============================] - 9s 43us/step - loss: 0.3479 - acc: 0.8115 - val_loss: 0.1389 - val_acc: 0.9814\n",
      "Epoch 5/100\n",
      "205060/205060 [==============================] - 9s 43us/step - loss: 0.3040 - acc: 0.8289 - val_loss: 0.1548 - val_acc: 0.9848\n",
      "Fit complete in 45.37 seconds\n"
     ]
    }
   ],
   "source": [
    "fnn.fit(X_train, y_train)"
   ]
  },
  {
   "cell_type": "code",
   "execution_count": 28,
   "metadata": {
    "collapsed": true
   },
   "outputs": [],
   "source": [
    "X_test = scaler.transform(X_test)"
   ]
  },
  {
   "cell_type": "code",
   "execution_count": 29,
   "metadata": {},
   "outputs": [
    {
     "data": {
      "text/plain": [
       "0.9980155054715104"
      ]
     },
     "execution_count": 29,
     "metadata": {},
     "output_type": "execute_result"
    }
   ],
   "source": [
    "roc_auc_score(y_score=fnn.predict_proba(X_test)[:, 1], y_true=y_test)"
   ]
  },
  {
   "cell_type": "code",
   "execution_count": 30,
   "metadata": {},
   "outputs": [
    {
     "name": "stdout",
     "output_type": "stream",
     "text": [
      "28481/28481 [==============================] - 1s 44us/step\n"
     ]
    },
    {
     "data": {
      "text/plain": [
       "[0.051488693095332785, 0.9933288859239493]"
      ]
     },
     "execution_count": 30,
     "metadata": {},
     "output_type": "execute_result"
    }
   ],
   "source": [
    "fnn.score(scaler.transform(X_test), y_test)"
   ]
  },
  {
   "cell_type": "code",
   "execution_count": 40,
   "metadata": {
    "collapsed": true
   },
   "outputs": [],
   "source": [
    "logistic = SGDClassifier(class_weight='balanced', loss='log', penalty='l2')"
   ]
  },
  {
   "cell_type": "code",
   "execution_count": 41,
   "metadata": {
    "scrolled": true
   },
   "outputs": [
    {
     "name": "stderr",
     "output_type": "stream",
     "text": [
      "C:\\Users\\k\\Anaconda3\\lib\\site-packages\\sklearn\\linear_model\\stochastic_gradient.py:128: FutureWarning: max_iter and tol parameters have been added in <class 'sklearn.linear_model.stochastic_gradient.SGDClassifier'> in 0.19. If both are left unset, they default to max_iter=5 and tol=None. If tol is not None, max_iter defaults to max_iter=1000. From 0.21, default max_iter will be 1000, and default tol will be 1e-3.\n",
      "  \"and default tol will be 1e-3.\" % type(self), FutureWarning)\n"
     ]
    },
    {
     "data": {
      "text/plain": [
       "SGDClassifier(alpha=0.0001, average=False, class_weight='balanced',\n",
       "       epsilon=0.1, eta0=0.0, fit_intercept=True, l1_ratio=0.15,\n",
       "       learning_rate='optimal', loss='log', max_iter=None, n_iter=None,\n",
       "       n_jobs=1, penalty='l2', power_t=0.5, random_state=None,\n",
       "       shuffle=True, tol=None, verbose=0, warm_start=False)"
      ]
     },
     "execution_count": 41,
     "metadata": {},
     "output_type": "execute_result"
    }
   ],
   "source": [
    "logistic.fit(X_train, y_train)"
   ]
  },
  {
   "cell_type": "code",
   "execution_count": 42,
   "metadata": {},
   "outputs": [
    {
     "name": "stderr",
     "output_type": "stream",
     "text": [
      "C:\\Users\\k\\Anaconda3\\lib\\site-packages\\sklearn\\linear_model\\base.py:340: RuntimeWarning: overflow encountered in exp\n",
      "  np.exp(prob, prob)\n"
     ]
    },
    {
     "data": {
      "text/plain": [
       "0.9907327364412885"
      ]
     },
     "execution_count": 42,
     "metadata": {},
     "output_type": "execute_result"
    }
   ],
   "source": [
    "roc_auc_score(y_score=logistic.predict_proba(X_test)[:, 1], y_true=y_test)"
   ]
  }
 ],
 "metadata": {
  "kernelspec": {
   "display_name": "Python 3",
   "language": "python",
   "name": "python3"
  },
  "language_info": {
   "codemirror_mode": {
    "name": "ipython",
    "version": 3
   },
   "file_extension": ".py",
   "mimetype": "text/x-python",
   "name": "python",
   "nbconvert_exporter": "python",
   "pygments_lexer": "ipython3",
   "version": "3.6.2"
  }
 },
 "nbformat": 4,
 "nbformat_minor": 2
}
