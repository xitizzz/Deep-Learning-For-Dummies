{
 "cells": [
  {
   "cell_type": "code",
   "execution_count": 1,
   "metadata": {
    "collapsed": true
   },
   "outputs": [],
   "source": [
    "import pandas as pd\n",
    "import numpy as np"
   ]
  },
  {
   "cell_type": "code",
   "execution_count": 2,
   "metadata": {
    "collapsed": true
   },
   "outputs": [],
   "source": [
    "from sklearn.model_selection import train_test_split\n",
    "from sklearn.preprocessing import StandardScaler, MinMaxScaler, LabelBinarizer, LabelEncoder\n",
    "from sklearn.metrics import accuracy_score, roc_auc_score"
   ]
  },
  {
   "cell_type": "code",
   "execution_count": 3,
   "metadata": {
    "scrolled": true
   },
   "outputs": [
    {
     "name": "stderr",
     "output_type": "stream",
     "text": [
      "Using TensorFlow backend.\n"
     ]
    }
   ],
   "source": [
    "from neural_network import FNNClassifier\n",
    "from sklearn.linear_model import SGDClassifier, LogisticRegression"
   ]
  },
  {
   "cell_type": "code",
   "execution_count": 4,
   "metadata": {
    "collapsed": true
   },
   "outputs": [],
   "source": [
    "scaler = StandardScaler()"
   ]
  },
  {
   "cell_type": "markdown",
   "metadata": {},
   "source": [
    "### Binary Classification - Cenesus Data"
   ]
  },
  {
   "cell_type": "code",
   "execution_count": 5,
   "metadata": {
    "collapsed": true
   },
   "outputs": [],
   "source": [
    "df = pd.read_csv('./data/adult.csv') "
   ]
  },
  {
   "cell_type": "code",
   "execution_count": 6,
   "metadata": {
    "scrolled": true
   },
   "outputs": [
    {
     "data": {
      "text/html": [
       "<div>\n",
       "<style scoped>\n",
       "    .dataframe tbody tr th:only-of-type {\n",
       "        vertical-align: middle;\n",
       "    }\n",
       "\n",
       "    .dataframe tbody tr th {\n",
       "        vertical-align: top;\n",
       "    }\n",
       "\n",
       "    .dataframe thead th {\n",
       "        text-align: right;\n",
       "    }\n",
       "</style>\n",
       "<table border=\"1\" class=\"dataframe\">\n",
       "  <thead>\n",
       "    <tr style=\"text-align: right;\">\n",
       "      <th></th>\n",
       "      <th>age</th>\n",
       "      <th>workclass</th>\n",
       "      <th>fnlwgt</th>\n",
       "      <th>education</th>\n",
       "      <th>education.num</th>\n",
       "      <th>marital.status</th>\n",
       "      <th>occupation</th>\n",
       "      <th>relationship</th>\n",
       "      <th>race</th>\n",
       "      <th>sex</th>\n",
       "      <th>capital.gain</th>\n",
       "      <th>capital.loss</th>\n",
       "      <th>hours.per.week</th>\n",
       "      <th>native.country</th>\n",
       "      <th>income</th>\n",
       "    </tr>\n",
       "  </thead>\n",
       "  <tbody>\n",
       "    <tr>\n",
       "      <th>0</th>\n",
       "      <td>90</td>\n",
       "      <td>?</td>\n",
       "      <td>77053</td>\n",
       "      <td>HS-grad</td>\n",
       "      <td>9</td>\n",
       "      <td>Widowed</td>\n",
       "      <td>?</td>\n",
       "      <td>Not-in-family</td>\n",
       "      <td>White</td>\n",
       "      <td>Female</td>\n",
       "      <td>0</td>\n",
       "      <td>4356</td>\n",
       "      <td>40</td>\n",
       "      <td>United-States</td>\n",
       "      <td>&lt;=50K</td>\n",
       "    </tr>\n",
       "    <tr>\n",
       "      <th>1</th>\n",
       "      <td>82</td>\n",
       "      <td>Private</td>\n",
       "      <td>132870</td>\n",
       "      <td>HS-grad</td>\n",
       "      <td>9</td>\n",
       "      <td>Widowed</td>\n",
       "      <td>Exec-managerial</td>\n",
       "      <td>Not-in-family</td>\n",
       "      <td>White</td>\n",
       "      <td>Female</td>\n",
       "      <td>0</td>\n",
       "      <td>4356</td>\n",
       "      <td>18</td>\n",
       "      <td>United-States</td>\n",
       "      <td>&lt;=50K</td>\n",
       "    </tr>\n",
       "    <tr>\n",
       "      <th>2</th>\n",
       "      <td>66</td>\n",
       "      <td>?</td>\n",
       "      <td>186061</td>\n",
       "      <td>Some-college</td>\n",
       "      <td>10</td>\n",
       "      <td>Widowed</td>\n",
       "      <td>?</td>\n",
       "      <td>Unmarried</td>\n",
       "      <td>Black</td>\n",
       "      <td>Female</td>\n",
       "      <td>0</td>\n",
       "      <td>4356</td>\n",
       "      <td>40</td>\n",
       "      <td>United-States</td>\n",
       "      <td>&lt;=50K</td>\n",
       "    </tr>\n",
       "    <tr>\n",
       "      <th>3</th>\n",
       "      <td>54</td>\n",
       "      <td>Private</td>\n",
       "      <td>140359</td>\n",
       "      <td>7th-8th</td>\n",
       "      <td>4</td>\n",
       "      <td>Divorced</td>\n",
       "      <td>Machine-op-inspct</td>\n",
       "      <td>Unmarried</td>\n",
       "      <td>White</td>\n",
       "      <td>Female</td>\n",
       "      <td>0</td>\n",
       "      <td>3900</td>\n",
       "      <td>40</td>\n",
       "      <td>United-States</td>\n",
       "      <td>&lt;=50K</td>\n",
       "    </tr>\n",
       "    <tr>\n",
       "      <th>4</th>\n",
       "      <td>41</td>\n",
       "      <td>Private</td>\n",
       "      <td>264663</td>\n",
       "      <td>Some-college</td>\n",
       "      <td>10</td>\n",
       "      <td>Separated</td>\n",
       "      <td>Prof-specialty</td>\n",
       "      <td>Own-child</td>\n",
       "      <td>White</td>\n",
       "      <td>Female</td>\n",
       "      <td>0</td>\n",
       "      <td>3900</td>\n",
       "      <td>40</td>\n",
       "      <td>United-States</td>\n",
       "      <td>&lt;=50K</td>\n",
       "    </tr>\n",
       "  </tbody>\n",
       "</table>\n",
       "</div>"
      ],
      "text/plain": [
       "   age workclass  fnlwgt     education  education.num marital.status  \\\n",
       "0   90         ?   77053       HS-grad              9        Widowed   \n",
       "1   82   Private  132870       HS-grad              9        Widowed   \n",
       "2   66         ?  186061  Some-college             10        Widowed   \n",
       "3   54   Private  140359       7th-8th              4       Divorced   \n",
       "4   41   Private  264663  Some-college             10      Separated   \n",
       "\n",
       "          occupation   relationship   race     sex  capital.gain  \\\n",
       "0                  ?  Not-in-family  White  Female             0   \n",
       "1    Exec-managerial  Not-in-family  White  Female             0   \n",
       "2                  ?      Unmarried  Black  Female             0   \n",
       "3  Machine-op-inspct      Unmarried  White  Female             0   \n",
       "4     Prof-specialty      Own-child  White  Female             0   \n",
       "\n",
       "   capital.loss  hours.per.week native.country income  \n",
       "0          4356              40  United-States  <=50K  \n",
       "1          4356              18  United-States  <=50K  \n",
       "2          4356              40  United-States  <=50K  \n",
       "3          3900              40  United-States  <=50K  \n",
       "4          3900              40  United-States  <=50K  "
      ]
     },
     "execution_count": 6,
     "metadata": {},
     "output_type": "execute_result"
    }
   ],
   "source": [
    "df.head()"
   ]
  },
  {
   "cell_type": "code",
   "execution_count": 7,
   "metadata": {},
   "outputs": [
    {
     "data": {
      "text/plain": [
       "<=50K    24720\n",
       ">50K      7841\n",
       "Name: income, dtype: int64"
      ]
     },
     "execution_count": 7,
     "metadata": {},
     "output_type": "execute_result"
    }
   ],
   "source": [
    "df['income'].value_counts()"
   ]
  },
  {
   "cell_type": "code",
   "execution_count": 8,
   "metadata": {
    "collapsed": true
   },
   "outputs": [],
   "source": [
    "df = pd.get_dummies(df)"
   ]
  },
  {
   "cell_type": "code",
   "execution_count": 9,
   "metadata": {
    "collapsed": true
   },
   "outputs": [],
   "source": [
    "X = df[[c for c in df.columns if c not in ['income_<=50K', 'income_>50K']]].values"
   ]
  },
  {
   "cell_type": "code",
   "execution_count": 10,
   "metadata": {
    "collapsed": true
   },
   "outputs": [],
   "source": [
    "y = df['income_>50K'].values"
   ]
  },
  {
   "cell_type": "code",
   "execution_count": 11,
   "metadata": {
    "collapsed": true
   },
   "outputs": [],
   "source": [
    "X_train, X_test, y_train, y_test = train_test_split(X, y, test_size=0.1, random_state=22)"
   ]
  },
  {
   "cell_type": "code",
   "execution_count": 12,
   "metadata": {},
   "outputs": [
    {
     "name": "stderr",
     "output_type": "stream",
     "text": [
      "C:\\Users\\k\\Anaconda3\\lib\\site-packages\\sklearn\\utils\\validation.py:475: DataConversionWarning: Data with input dtype int64 was converted to float64 by StandardScaler.\n",
      "  warnings.warn(msg, DataConversionWarning)\n"
     ]
    }
   ],
   "source": [
    "X_train = scaler.fit_transform(X_train)"
   ]
  },
  {
   "cell_type": "code",
   "execution_count": 13,
   "metadata": {
    "collapsed": true
   },
   "outputs": [],
   "source": [
    "fnn = FNNClassifier(class_weight='balanced', early_stopping=5)"
   ]
  },
  {
   "cell_type": "code",
   "execution_count": 14,
   "metadata": {
    "scrolled": false
   },
   "outputs": [
    {
     "name": "stdout",
     "output_type": "stream",
     "text": [
      "Data size (29304, 108) -\t Epochs 100 -\t Batch Size 128\n",
      "Computed Class Weights {0: 0.6572466693580945, 1: 2.089858793324775}\n",
      "_________________________________________________________________\n",
      "Layer (type)                 Output Shape              Param #   \n",
      "=================================================================\n",
      "Hidden_1 (Dense)             (None, 50)                5450      \n",
      "_________________________________________________________________\n",
      "Dropout_1_0.5 (Dropout)      (None, 50)                0         \n",
      "_________________________________________________________________\n",
      "Output_sigmoid (Dense)       (None, 1)                 51        \n",
      "=================================================================\n",
      "Total params: 5,501\n",
      "Trainable params: 5,501\n",
      "Non-trainable params: 0\n",
      "_________________________________________________________________\n",
      "Train on 26373 samples, validate on 2931 samples\n",
      "Epoch 1/100\n",
      "26373/26373 [==============================] - 3s 121us/step - loss: 0.5332 - acc: 0.7179 - val_loss: 0.4319 - val_acc: 0.7728\n",
      "Epoch 2/100\n",
      "26373/26373 [==============================] - 1s 25us/step - loss: 0.4353 - acc: 0.7802 - val_loss: 0.4203 - val_acc: 0.7881\n",
      "Epoch 3/100\n",
      "26373/26373 [==============================] - 1s 24us/step - loss: 0.4187 - acc: 0.7891 - val_loss: 0.4141 - val_acc: 0.7827\n",
      "Epoch 4/100\n",
      "26373/26373 [==============================] - 1s 24us/step - loss: 0.4004 - acc: 0.7958 - val_loss: 0.4099 - val_acc: 0.7905\n",
      "Epoch 5/100\n",
      "26373/26373 [==============================] - 1s 24us/step - loss: 0.3968 - acc: 0.7935 - val_loss: 0.4079 - val_acc: 0.7946\n",
      "Epoch 6/100\n",
      "26373/26373 [==============================] - 1s 25us/step - loss: 0.3901 - acc: 0.7988 - val_loss: 0.4070 - val_acc: 0.7926\n",
      "Epoch 7/100\n",
      "26373/26373 [==============================] - 1s 24us/step - loss: 0.3847 - acc: 0.8031 - val_loss: 0.4052 - val_acc: 0.7977\n",
      "Epoch 8/100\n",
      "26373/26373 [==============================] - 1s 24us/step - loss: 0.3817 - acc: 0.8030 - val_loss: 0.4030 - val_acc: 0.7929\n",
      "Epoch 9/100\n",
      "26373/26373 [==============================] - 1s 24us/step - loss: 0.3803 - acc: 0.8014 - val_loss: 0.4039 - val_acc: 0.7980\n",
      "Epoch 10/100\n",
      "26373/26373 [==============================] - 1s 24us/step - loss: 0.3779 - acc: 0.8061 - val_loss: 0.4035 - val_acc: 0.7943\n",
      "Epoch 11/100\n",
      "26373/26373 [==============================] - 1s 25us/step - loss: 0.3720 - acc: 0.8067 - val_loss: 0.4029 - val_acc: 0.7926\n",
      "Epoch 12/100\n",
      "26373/26373 [==============================] - 1s 24us/step - loss: 0.3730 - acc: 0.8082 - val_loss: 0.4025 - val_acc: 0.7950\n",
      "Epoch 13/100\n",
      "26373/26373 [==============================] - 1s 24us/step - loss: 0.3732 - acc: 0.8100 - val_loss: 0.4027 - val_acc: 0.8001\n",
      "Epoch 14/100\n",
      "26373/26373 [==============================] - 1s 26us/step - loss: 0.3741 - acc: 0.8108 - val_loss: 0.4025 - val_acc: 0.7980\n",
      "Epoch 15/100\n",
      "26373/26373 [==============================] - 1s 25us/step - loss: 0.3689 - acc: 0.8123 - val_loss: 0.4020 - val_acc: 0.7973\n",
      "Epoch 16/100\n",
      "26373/26373 [==============================] - 1s 24us/step - loss: 0.3699 - acc: 0.8113 - val_loss: 0.4026 - val_acc: 0.7960\n",
      "Epoch 17/100\n",
      "26373/26373 [==============================] - 1s 25us/step - loss: 0.3683 - acc: 0.8103 - val_loss: 0.4019 - val_acc: 0.7936\n",
      "Epoch 18/100\n",
      "26373/26373 [==============================] - 1s 25us/step - loss: 0.3680 - acc: 0.8081 - val_loss: 0.4007 - val_acc: 0.7977\n",
      "Epoch 19/100\n",
      "26373/26373 [==============================] - 1s 25us/step - loss: 0.3656 - acc: 0.8106 - val_loss: 0.4028 - val_acc: 0.7987\n",
      "Epoch 20/100\n",
      "26373/26373 [==============================] - 1s 26us/step - loss: 0.3659 - acc: 0.8139 - val_loss: 0.3999 - val_acc: 0.7977\n",
      "Epoch 21/100\n",
      "26373/26373 [==============================] - 1s 25us/step - loss: 0.3648 - acc: 0.8120 - val_loss: 0.4019 - val_acc: 0.7990\n",
      "Epoch 22/100\n",
      "26373/26373 [==============================] - 1s 23us/step - loss: 0.3641 - acc: 0.8122 - val_loss: 0.4023 - val_acc: 0.7970\n",
      "Epoch 23/100\n",
      "26373/26373 [==============================] - 1s 24us/step - loss: 0.3631 - acc: 0.8142 - val_loss: 0.4017 - val_acc: 0.7970\n",
      "Epoch 24/100\n",
      "26373/26373 [==============================] - 1s 23us/step - loss: 0.3620 - acc: 0.8123 - val_loss: 0.4033 - val_acc: 0.8018\n",
      "Fit complete in 18.82 seconds\n"
     ]
    }
   ],
   "source": [
    "fnn.fit(X_train, y_train)"
   ]
  },
  {
   "cell_type": "code",
   "execution_count": 15,
   "metadata": {},
   "outputs": [
    {
     "name": "stdout",
     "output_type": "stream",
     "text": [
      "3257/3257 [==============================] - 0s 37us/step\n"
     ]
    },
    {
     "name": "stderr",
     "output_type": "stream",
     "text": [
      "C:\\Users\\k\\Anaconda3\\lib\\site-packages\\sklearn\\utils\\validation.py:475: DataConversionWarning: Data with input dtype int64 was converted to float64 by StandardScaler.\n",
      "  warnings.warn(msg, DataConversionWarning)\n"
     ]
    },
    {
     "data": {
      "text/plain": [
       "{'accuracy': 0.8194657661338727, 'loss': 0.3678206117525765}"
      ]
     },
     "execution_count": 15,
     "metadata": {},
     "output_type": "execute_result"
    }
   ],
   "source": [
    "fnn.score(scaler.transform(X_test), y_test)"
   ]
  },
  {
   "cell_type": "code",
   "execution_count": 16,
   "metadata": {
    "collapsed": true
   },
   "outputs": [],
   "source": [
    "logistic = LogisticRegression(class_weight='balanced')"
   ]
  },
  {
   "cell_type": "code",
   "execution_count": 17,
   "metadata": {},
   "outputs": [
    {
     "data": {
      "text/plain": [
       "LogisticRegression(C=1.0, class_weight='balanced', dual=False,\n",
       "          fit_intercept=True, intercept_scaling=1, max_iter=100,\n",
       "          multi_class='ovr', n_jobs=1, penalty='l2', random_state=None,\n",
       "          solver='liblinear', tol=0.0001, verbose=0, warm_start=False)"
      ]
     },
     "execution_count": 17,
     "metadata": {},
     "output_type": "execute_result"
    }
   ],
   "source": [
    "logistic.fit(X_train, y_train)"
   ]
  },
  {
   "cell_type": "code",
   "execution_count": 18,
   "metadata": {},
   "outputs": [
    {
     "name": "stderr",
     "output_type": "stream",
     "text": [
      "C:\\Users\\k\\Anaconda3\\lib\\site-packages\\sklearn\\utils\\validation.py:475: DataConversionWarning: Data with input dtype int64 was converted to float64 by StandardScaler.\n",
      "  warnings.warn(msg, DataConversionWarning)\n"
     ]
    },
    {
     "data": {
      "text/plain": [
       "0.8167024869511821"
      ]
     },
     "execution_count": 18,
     "metadata": {},
     "output_type": "execute_result"
    }
   ],
   "source": [
    "accuracy_score(y_pred=logistic.predict(scaler.transform(X_test)), y_true=y_test)"
   ]
  }
 ],
 "metadata": {
  "kernelspec": {
   "display_name": "Python 3",
   "language": "python",
   "name": "python3"
  },
  "language_info": {
   "codemirror_mode": {
    "name": "ipython",
    "version": 3
   },
   "file_extension": ".py",
   "mimetype": "text/x-python",
   "name": "python",
   "nbconvert_exporter": "python",
   "pygments_lexer": "ipython3",
   "version": "3.6.2"
  }
 },
 "nbformat": 4,
 "nbformat_minor": 2
}
