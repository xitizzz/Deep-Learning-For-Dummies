{
 "cells": [
  {
   "cell_type": "code",
   "execution_count": 1,
   "metadata": {
    "collapsed": true
   },
   "outputs": [],
   "source": [
    "import pandas as pd\n",
    "import numpy as np"
   ]
  },
  {
   "cell_type": "code",
   "execution_count": null,
   "metadata": {
    "collapsed": true
   },
   "outputs": [],
   "source": [
    "from sklearn.model_selection import train_test_split\n",
    "from sklearn.preprocessing import StandardScaler, MinMaxScaler, LabelBinarizer, LabelEncoder\n",
    "from sklearn.metrics import accuracy_score, roc_auc_score, mean_squared_error"
   ]
  },
  {
   "cell_type": "code",
   "execution_count": 56,
   "metadata": {
    "collapsed": true,
    "scrolled": true
   },
   "outputs": [],
   "source": [
    "from neural_network import FNNRegressor\n",
    "from sklearn.linear_model import LinearRegression"
   ]
  },
  {
   "cell_type": "code",
   "execution_count": 4,
   "metadata": {
    "collapsed": true
   },
   "outputs": [],
   "source": [
    "scaler = StandardScaler()"
   ]
  },
  {
   "cell_type": "markdown",
   "metadata": {},
   "source": [
    "## Multiway Classification - Fashion MNIST"
   ]
  },
  {
   "cell_type": "code",
   "execution_count": 6,
   "metadata": {
    "collapsed": true
   },
   "outputs": [],
   "source": [
    "train_data = pd.read_csv('./data/blogData_train.csv', header=None)"
   ]
  },
  {
   "cell_type": "code",
   "execution_count": 7,
   "metadata": {
    "scrolled": true
   },
   "outputs": [
    {
     "data": {
      "text/html": [
       "<div>\n",
       "<style scoped>\n",
       "    .dataframe tbody tr th:only-of-type {\n",
       "        vertical-align: middle;\n",
       "    }\n",
       "\n",
       "    .dataframe tbody tr th {\n",
       "        vertical-align: top;\n",
       "    }\n",
       "\n",
       "    .dataframe thead th {\n",
       "        text-align: right;\n",
       "    }\n",
       "</style>\n",
       "<table border=\"1\" class=\"dataframe\">\n",
       "  <thead>\n",
       "    <tr style=\"text-align: right;\">\n",
       "      <th></th>\n",
       "      <th>0</th>\n",
       "      <th>1</th>\n",
       "      <th>2</th>\n",
       "      <th>3</th>\n",
       "      <th>4</th>\n",
       "      <th>5</th>\n",
       "      <th>6</th>\n",
       "      <th>7</th>\n",
       "      <th>8</th>\n",
       "      <th>9</th>\n",
       "      <th>...</th>\n",
       "      <th>271</th>\n",
       "      <th>272</th>\n",
       "      <th>273</th>\n",
       "      <th>274</th>\n",
       "      <th>275</th>\n",
       "      <th>276</th>\n",
       "      <th>277</th>\n",
       "      <th>278</th>\n",
       "      <th>279</th>\n",
       "      <th>280</th>\n",
       "    </tr>\n",
       "  </thead>\n",
       "  <tbody>\n",
       "    <tr>\n",
       "      <th>0</th>\n",
       "      <td>40.30467</td>\n",
       "      <td>53.845657</td>\n",
       "      <td>0.0</td>\n",
       "      <td>401.0</td>\n",
       "      <td>15.0</td>\n",
       "      <td>15.52416</td>\n",
       "      <td>32.44188</td>\n",
       "      <td>0.0</td>\n",
       "      <td>377.0</td>\n",
       "      <td>3.0</td>\n",
       "      <td>...</td>\n",
       "      <td>0.0</td>\n",
       "      <td>1.0</td>\n",
       "      <td>0.0</td>\n",
       "      <td>0.0</td>\n",
       "      <td>0.0</td>\n",
       "      <td>0.0</td>\n",
       "      <td>0.0</td>\n",
       "      <td>0.0</td>\n",
       "      <td>0.0</td>\n",
       "      <td>1.0</td>\n",
       "    </tr>\n",
       "    <tr>\n",
       "      <th>1</th>\n",
       "      <td>40.30467</td>\n",
       "      <td>53.845657</td>\n",
       "      <td>0.0</td>\n",
       "      <td>401.0</td>\n",
       "      <td>15.0</td>\n",
       "      <td>15.52416</td>\n",
       "      <td>32.44188</td>\n",
       "      <td>0.0</td>\n",
       "      <td>377.0</td>\n",
       "      <td>3.0</td>\n",
       "      <td>...</td>\n",
       "      <td>1.0</td>\n",
       "      <td>0.0</td>\n",
       "      <td>0.0</td>\n",
       "      <td>0.0</td>\n",
       "      <td>0.0</td>\n",
       "      <td>0.0</td>\n",
       "      <td>0.0</td>\n",
       "      <td>0.0</td>\n",
       "      <td>0.0</td>\n",
       "      <td>0.0</td>\n",
       "    </tr>\n",
       "    <tr>\n",
       "      <th>2</th>\n",
       "      <td>40.30467</td>\n",
       "      <td>53.845657</td>\n",
       "      <td>0.0</td>\n",
       "      <td>401.0</td>\n",
       "      <td>15.0</td>\n",
       "      <td>15.52416</td>\n",
       "      <td>32.44188</td>\n",
       "      <td>0.0</td>\n",
       "      <td>377.0</td>\n",
       "      <td>3.0</td>\n",
       "      <td>...</td>\n",
       "      <td>1.0</td>\n",
       "      <td>0.0</td>\n",
       "      <td>0.0</td>\n",
       "      <td>0.0</td>\n",
       "      <td>0.0</td>\n",
       "      <td>0.0</td>\n",
       "      <td>0.0</td>\n",
       "      <td>0.0</td>\n",
       "      <td>0.0</td>\n",
       "      <td>0.0</td>\n",
       "    </tr>\n",
       "    <tr>\n",
       "      <th>3</th>\n",
       "      <td>40.30467</td>\n",
       "      <td>53.845657</td>\n",
       "      <td>0.0</td>\n",
       "      <td>401.0</td>\n",
       "      <td>15.0</td>\n",
       "      <td>15.52416</td>\n",
       "      <td>32.44188</td>\n",
       "      <td>0.0</td>\n",
       "      <td>377.0</td>\n",
       "      <td>3.0</td>\n",
       "      <td>...</td>\n",
       "      <td>0.0</td>\n",
       "      <td>1.0</td>\n",
       "      <td>0.0</td>\n",
       "      <td>0.0</td>\n",
       "      <td>0.0</td>\n",
       "      <td>0.0</td>\n",
       "      <td>0.0</td>\n",
       "      <td>0.0</td>\n",
       "      <td>0.0</td>\n",
       "      <td>1.0</td>\n",
       "    </tr>\n",
       "    <tr>\n",
       "      <th>4</th>\n",
       "      <td>40.30467</td>\n",
       "      <td>53.845657</td>\n",
       "      <td>0.0</td>\n",
       "      <td>401.0</td>\n",
       "      <td>15.0</td>\n",
       "      <td>15.52416</td>\n",
       "      <td>32.44188</td>\n",
       "      <td>0.0</td>\n",
       "      <td>377.0</td>\n",
       "      <td>3.0</td>\n",
       "      <td>...</td>\n",
       "      <td>0.0</td>\n",
       "      <td>1.0</td>\n",
       "      <td>0.0</td>\n",
       "      <td>0.0</td>\n",
       "      <td>0.0</td>\n",
       "      <td>0.0</td>\n",
       "      <td>0.0</td>\n",
       "      <td>0.0</td>\n",
       "      <td>0.0</td>\n",
       "      <td>27.0</td>\n",
       "    </tr>\n",
       "  </tbody>\n",
       "</table>\n",
       "<p>5 rows × 281 columns</p>\n",
       "</div>"
      ],
      "text/plain": [
       "        0          1    2      3     4         5         6    7      8    9    \\\n",
       "0  40.30467  53.845657  0.0  401.0  15.0  15.52416  32.44188  0.0  377.0  3.0   \n",
       "1  40.30467  53.845657  0.0  401.0  15.0  15.52416  32.44188  0.0  377.0  3.0   \n",
       "2  40.30467  53.845657  0.0  401.0  15.0  15.52416  32.44188  0.0  377.0  3.0   \n",
       "3  40.30467  53.845657  0.0  401.0  15.0  15.52416  32.44188  0.0  377.0  3.0   \n",
       "4  40.30467  53.845657  0.0  401.0  15.0  15.52416  32.44188  0.0  377.0  3.0   \n",
       "\n",
       "   ...   271  272  273  274  275  276  277  278  279   280  \n",
       "0  ...   0.0  1.0  0.0  0.0  0.0  0.0  0.0  0.0  0.0   1.0  \n",
       "1  ...   1.0  0.0  0.0  0.0  0.0  0.0  0.0  0.0  0.0   0.0  \n",
       "2  ...   1.0  0.0  0.0  0.0  0.0  0.0  0.0  0.0  0.0   0.0  \n",
       "3  ...   0.0  1.0  0.0  0.0  0.0  0.0  0.0  0.0  0.0   1.0  \n",
       "4  ...   0.0  1.0  0.0  0.0  0.0  0.0  0.0  0.0  0.0  27.0  \n",
       "\n",
       "[5 rows x 281 columns]"
      ]
     },
     "execution_count": 7,
     "metadata": {},
     "output_type": "execute_result"
    }
   ],
   "source": [
    "train_data.head()"
   ]
  },
  {
   "cell_type": "code",
   "execution_count": 8,
   "metadata": {
    "collapsed": true
   },
   "outputs": [],
   "source": [
    "X_train = train_data[[c for c in train_data.columns if c not in {280}]].values"
   ]
  },
  {
   "cell_type": "code",
   "execution_count": 9,
   "metadata": {
    "collapsed": true
   },
   "outputs": [],
   "source": [
    "y_train = train_data[280].values"
   ]
  },
  {
   "cell_type": "code",
   "execution_count": 10,
   "metadata": {
    "collapsed": true
   },
   "outputs": [],
   "source": [
    "X_train = scaler.fit_transform(X_train)"
   ]
  },
  {
   "cell_type": "code",
   "execution_count": 11,
   "metadata": {
    "collapsed": true
   },
   "outputs": [],
   "source": [
    "y_train  = np.log1p(y_train)"
   ]
  },
  {
   "cell_type": "code",
   "execution_count": 82,
   "metadata": {
    "collapsed": true
   },
   "outputs": [],
   "source": [
    "fnn = FNNRegressor(hidden_layers=(100, 20), dropout=0.5, early_stopping=0, epochs=50)"
   ]
  },
  {
   "cell_type": "code",
   "execution_count": 83,
   "metadata": {},
   "outputs": [
    {
     "data": {
      "text/plain": [
       "(52397, 280)"
      ]
     },
     "execution_count": 83,
     "metadata": {},
     "output_type": "execute_result"
    }
   ],
   "source": [
    "X_train.shape"
   ]
  },
  {
   "cell_type": "code",
   "execution_count": 84,
   "metadata": {},
   "outputs": [
    {
     "name": "stdout",
     "output_type": "stream",
     "text": [
      "Data size (52397, 280) -\t Epochs 50 -\t Batch Size 128\n",
      "_________________________________________________________________\n",
      "Layer (type)                 Output Shape              Param #   \n",
      "=================================================================\n",
      "Hidden_1 (Dense)             (None, 100)               28100     \n",
      "_________________________________________________________________\n",
      "Dropout_1_0.5 (Dropout)      (None, 100)               0         \n",
      "_________________________________________________________________\n",
      "Hidden_2 (Dense)             (None, 20)                2020      \n",
      "_________________________________________________________________\n",
      "Dropout_2_0.5 (Dropout)      (None, 20)                0         \n",
      "_________________________________________________________________\n",
      "Output_linear (Dense)        (None, 1)                 21        \n",
      "=================================================================\n",
      "Total params: 30,141\n",
      "Trainable params: 30,141\n",
      "Non-trainable params: 0\n",
      "_________________________________________________________________\n",
      "Train on 47157 samples, validate on 5240 samples\n",
      "Epoch 1/50\n",
      "47157/47157 [==============================] - 2s 46us/step - loss: 1.0474 - mean_squared_error: 1.0474 - val_loss: 0.4048 - val_mean_squared_error: 0.4048\n",
      "Epoch 2/50\n",
      "47157/47157 [==============================] - 1s 32us/step - loss: 0.8682 - mean_squared_error: 0.8682 - val_loss: 0.3928 - val_mean_squared_error: 0.3928\n",
      "Epoch 3/50\n",
      "47157/47157 [==============================] - 1s 31us/step - loss: 0.7891 - mean_squared_error: 0.7891 - val_loss: 0.4097 - val_mean_squared_error: 0.4097\n",
      "Epoch 4/50\n",
      "47157/47157 [==============================] - 1s 31us/step - loss: 0.7586 - mean_squared_error: 0.7586 - val_loss: 0.3821 - val_mean_squared_error: 0.3821\n",
      "Epoch 5/50\n",
      "47157/47157 [==============================] - 1s 31us/step - loss: 0.7174 - mean_squared_error: 0.7174 - val_loss: 0.3389 - val_mean_squared_error: 0.3389\n",
      "Epoch 6/50\n",
      "47157/47157 [==============================] - 1s 31us/step - loss: 0.7127 - mean_squared_error: 0.7127 - val_loss: 0.3596 - val_mean_squared_error: 0.3596\n",
      "Epoch 7/50\n",
      "47157/47157 [==============================] - 1s 31us/step - loss: 0.7016 - mean_squared_error: 0.7016 - val_loss: 0.3464 - val_mean_squared_error: 0.3464\n",
      "Epoch 8/50\n",
      "47157/47157 [==============================] - 1s 32us/step - loss: 0.6904 - mean_squared_error: 0.6904 - val_loss: 0.3399 - val_mean_squared_error: 0.3399\n",
      "Epoch 9/50\n",
      "47157/47157 [==============================] - 1s 32us/step - loss: 0.7078 - mean_squared_error: 0.7078 - val_loss: 0.3666 - val_mean_squared_error: 0.3666\n",
      "Epoch 10/50\n",
      "47157/47157 [==============================] - 1s 31us/step - loss: 0.6712 - mean_squared_error: 0.6712 - val_loss: 0.3543 - val_mean_squared_error: 0.3543\n",
      "Epoch 11/50\n",
      "47157/47157 [==============================] - 1s 31us/step - loss: 0.6641 - mean_squared_error: 0.6641 - val_loss: 0.3656 - val_mean_squared_error: 0.3656\n",
      "Epoch 12/50\n",
      "47157/47157 [==============================] - 1s 32us/step - loss: 0.6606 - mean_squared_error: 0.6606 - val_loss: 0.3845 - val_mean_squared_error: 0.3845\n",
      "Epoch 13/50\n",
      "47157/47157 [==============================] - 1s 31us/step - loss: 0.6605 - mean_squared_error: 0.6605 - val_loss: 0.3669 - val_mean_squared_error: 0.3669\n",
      "Epoch 14/50\n",
      "47157/47157 [==============================] - 1s 30us/step - loss: 0.6434 - mean_squared_error: 0.6434 - val_loss: 0.3709 - val_mean_squared_error: 0.3709\n",
      "Epoch 15/50\n",
      "47157/47157 [==============================] - 1s 31us/step - loss: 0.6479 - mean_squared_error: 0.6479 - val_loss: 0.3801 - val_mean_squared_error: 0.3801\n",
      "Epoch 16/50\n",
      "47157/47157 [==============================] - 1s 32us/step - loss: 0.6391 - mean_squared_error: 0.6391 - val_loss: 0.3643 - val_mean_squared_error: 0.3643\n",
      "Epoch 17/50\n",
      "47157/47157 [==============================] - 2s 32us/step - loss: 0.6291 - mean_squared_error: 0.6291 - val_loss: 0.3339 - val_mean_squared_error: 0.3339\n",
      "Epoch 18/50\n",
      "47157/47157 [==============================] - 1s 31us/step - loss: 0.6326 - mean_squared_error: 0.6326 - val_loss: 0.3723 - val_mean_squared_error: 0.3723\n",
      "Epoch 19/50\n",
      "47157/47157 [==============================] - 1s 32us/step - loss: 0.6324 - mean_squared_error: 0.6324 - val_loss: 0.3593 - val_mean_squared_error: 0.3593\n",
      "Epoch 20/50\n",
      "47157/47157 [==============================] - 2s 32us/step - loss: 0.6401 - mean_squared_error: 0.6401 - val_loss: 0.3453 - val_mean_squared_error: 0.3453\n",
      "Epoch 21/50\n",
      "47157/47157 [==============================] - 1s 31us/step - loss: 0.6249 - mean_squared_error: 0.6249 - val_loss: 0.4231 - val_mean_squared_error: 0.4231\n",
      "Epoch 22/50\n",
      "47157/47157 [==============================] - 1s 32us/step - loss: 0.6182 - mean_squared_error: 0.6182 - val_loss: 0.4013 - val_mean_squared_error: 0.4013\n",
      "Epoch 23/50\n",
      "47157/47157 [==============================] - 2s 32us/step - loss: 0.6095 - mean_squared_error: 0.6095 - val_loss: 0.4077 - val_mean_squared_error: 0.4077\n",
      "Epoch 24/50\n",
      "47157/47157 [==============================] - 1s 32us/step - loss: 0.6132 - mean_squared_error: 0.6132 - val_loss: 0.4038 - val_mean_squared_error: 0.4038\n",
      "Epoch 25/50\n",
      "47157/47157 [==============================] - 2s 32us/step - loss: 0.6035 - mean_squared_error: 0.6035 - val_loss: 0.3834 - val_mean_squared_error: 0.3834\n",
      "Epoch 26/50\n",
      "47157/47157 [==============================] - 2s 33us/step - loss: 0.6086 - mean_squared_error: 0.6086 - val_loss: 0.4042 - val_mean_squared_error: 0.4042\n",
      "Epoch 27/50\n",
      "47157/47157 [==============================] - 1s 31us/step - loss: 0.6033 - mean_squared_error: 0.6033 - val_loss: 0.4160 - val_mean_squared_error: 0.4160\n",
      "Epoch 28/50\n",
      "47157/47157 [==============================] - 2s 32us/step - loss: 0.5966 - mean_squared_error: 0.5966 - val_loss: 0.4344 - val_mean_squared_error: 0.4344\n",
      "Epoch 29/50\n",
      "47157/47157 [==============================] - 2s 32us/step - loss: 0.6001 - mean_squared_error: 0.6001 - val_loss: 0.4215 - val_mean_squared_error: 0.4215\n",
      "Epoch 30/50\n",
      "47157/47157 [==============================] - 2s 34us/step - loss: 0.5992 - mean_squared_error: 0.5992 - val_loss: 0.3889 - val_mean_squared_error: 0.3889\n",
      "Epoch 31/50\n",
      "47157/47157 [==============================] - 2s 34us/step - loss: 0.5948 - mean_squared_error: 0.5948 - val_loss: 0.3853 - val_mean_squared_error: 0.3853\n",
      "Epoch 32/50\n",
      "47157/47157 [==============================] - 2s 33us/step - loss: 0.5895 - mean_squared_error: 0.5895 - val_loss: 0.4433 - val_mean_squared_error: 0.4433\n",
      "Epoch 33/50\n",
      "47157/47157 [==============================] - 2s 32us/step - loss: 0.5943 - mean_squared_error: 0.5943 - val_loss: 0.4068 - val_mean_squared_error: 0.4068\n",
      "Epoch 34/50\n",
      "47157/47157 [==============================] - 2s 33us/step - loss: 0.5891 - mean_squared_error: 0.5891 - val_loss: 0.4871 - val_mean_squared_error: 0.4871\n",
      "Epoch 35/50\n",
      "47157/47157 [==============================] - 2s 33us/step - loss: 0.5828 - mean_squared_error: 0.5828 - val_loss: 0.4118 - val_mean_squared_error: 0.4118\n",
      "Epoch 36/50\n",
      "47157/47157 [==============================] - 2s 33us/step - loss: 0.5809 - mean_squared_error: 0.5809 - val_loss: 0.4738 - val_mean_squared_error: 0.4738\n",
      "Epoch 37/50\n",
      "47157/47157 [==============================] - 2s 33us/step - loss: 0.5908 - mean_squared_error: 0.5908 - val_loss: 0.4710 - val_mean_squared_error: 0.4710\n",
      "Epoch 38/50\n",
      "47157/47157 [==============================] - 2s 32us/step - loss: 0.5795 - mean_squared_error: 0.5795 - val_loss: 0.4364 - val_mean_squared_error: 0.4364\n",
      "Epoch 39/50\n",
      "47157/47157 [==============================] - 2s 33us/step - loss: 0.5812 - mean_squared_error: 0.5812 - val_loss: 0.3815 - val_mean_squared_error: 0.3815\n",
      "Epoch 40/50\n",
      "47157/47157 [==============================] - 2s 34us/step - loss: 0.5763 - mean_squared_error: 0.5763 - val_loss: 0.3654 - val_mean_squared_error: 0.3654\n",
      "Epoch 41/50\n",
      "47157/47157 [==============================] - 2s 33us/step - loss: 0.5728 - mean_squared_error: 0.5728 - val_loss: 0.4092 - val_mean_squared_error: 0.4092\n",
      "Epoch 42/50\n",
      "47157/47157 [==============================] - 2s 34us/step - loss: 0.5724 - mean_squared_error: 0.5724 - val_loss: 0.4500 - val_mean_squared_error: 0.4500\n",
      "Epoch 43/50\n",
      "47157/47157 [==============================] - 1s 30us/step - loss: 0.5804 - mean_squared_error: 0.5804 - val_loss: 0.4065 - val_mean_squared_error: 0.4065\n",
      "Epoch 44/50\n",
      "47157/47157 [==============================] - 1s 30us/step - loss: 0.5710 - mean_squared_error: 0.5710 - val_loss: 0.4250 - val_mean_squared_error: 0.4250\n",
      "Epoch 45/50\n",
      "47157/47157 [==============================] - 1s 31us/step - loss: 0.5739 - mean_squared_error: 0.5739 - val_loss: 0.5486 - val_mean_squared_error: 0.5486\n",
      "Epoch 46/50\n",
      "47157/47157 [==============================] - 1s 31us/step - loss: 0.5722 - mean_squared_error: 0.5722 - val_loss: 0.4980 - val_mean_squared_error: 0.4980\n",
      "Epoch 47/50\n",
      "47157/47157 [==============================] - 1s 31us/step - loss: 0.6288 - mean_squared_error: 0.6288 - val_loss: 0.4647 - val_mean_squared_error: 0.4647\n",
      "Epoch 48/50\n",
      "47157/47157 [==============================] - 1s 31us/step - loss: 0.5836 - mean_squared_error: 0.5836 - val_loss: 0.4195 - val_mean_squared_error: 0.4195\n",
      "Epoch 49/50\n",
      "47157/47157 [==============================] - 1s 31us/step - loss: 0.5720 - mean_squared_error: 0.5720 - val_loss: 0.4230 - val_mean_squared_error: 0.4230\n",
      "Epoch 50/50\n",
      "47157/47157 [==============================] - 1s 31us/step - loss: 0.5706 - mean_squared_error: 0.5706 - val_loss: 0.4720 - val_mean_squared_error: 0.4720\n",
      "Fit complete in 76.53 seconds\n"
     ]
    }
   ],
   "source": [
    "fnn.fit(X_train, y_train)"
   ]
  },
  {
   "cell_type": "code",
   "execution_count": 85,
   "metadata": {
    "collapsed": true
   },
   "outputs": [],
   "source": [
    "test_data = pd.read_csv('./data/blogData_test-2012.03.31.01_00.csv', header=None)"
   ]
  },
  {
   "cell_type": "code",
   "execution_count": 86,
   "metadata": {
    "collapsed": true
   },
   "outputs": [],
   "source": [
    "X_test = test_data[[c for c in test_data.columns if c not in {280}]].values"
   ]
  },
  {
   "cell_type": "code",
   "execution_count": 87,
   "metadata": {
    "collapsed": true
   },
   "outputs": [],
   "source": [
    "y_test = test_data[280].values"
   ]
  },
  {
   "cell_type": "code",
   "execution_count": 88,
   "metadata": {
    "collapsed": true
   },
   "outputs": [],
   "source": [
    "X_test = scaler.transform(X_test)"
   ]
  },
  {
   "cell_type": "code",
   "execution_count": 89,
   "metadata": {
    "collapsed": true
   },
   "outputs": [],
   "source": [
    "y_test = np.log1p(y_test)"
   ]
  },
  {
   "cell_type": "code",
   "execution_count": 94,
   "metadata": {},
   "outputs": [
    {
     "data": {
      "text/plain": [
       "0.6170263923538243"
      ]
     },
     "execution_count": 94,
     "metadata": {},
     "output_type": "execute_result"
    }
   ],
   "source": [
    "mean_squared_error(fnn.predict(X_test), y_test)"
   ]
  },
  {
   "cell_type": "code",
   "execution_count": 91,
   "metadata": {
    "collapsed": true
   },
   "outputs": [],
   "source": [
    "linear_reg = LinearRegression()"
   ]
  },
  {
   "cell_type": "code",
   "execution_count": 92,
   "metadata": {},
   "outputs": [
    {
     "data": {
      "text/plain": [
       "LinearRegression(copy_X=True, fit_intercept=True, n_jobs=1, normalize=False)"
      ]
     },
     "execution_count": 92,
     "metadata": {},
     "output_type": "execute_result"
    }
   ],
   "source": [
    "linear_reg.fit(X_train, y_train)"
   ]
  },
  {
   "cell_type": "code",
   "execution_count": 93,
   "metadata": {},
   "outputs": [
    {
     "data": {
      "text/plain": [
       "0.8630887961131676"
      ]
     },
     "execution_count": 93,
     "metadata": {},
     "output_type": "execute_result"
    }
   ],
   "source": [
    "mean_squared_error(linear_reg.predict(X_test), y_test)"
   ]
  }
 ],
 "metadata": {
  "kernelspec": {
   "display_name": "Python 3",
   "language": "python",
   "name": "python3"
  },
  "language_info": {
   "codemirror_mode": {
    "name": "ipython",
    "version": 3
   },
   "file_extension": ".py",
   "mimetype": "text/x-python",
   "name": "python",
   "nbconvert_exporter": "python",
   "pygments_lexer": "ipython3",
   "version": "3.6.2"
  }
 },
 "nbformat": 4,
 "nbformat_minor": 2
}
